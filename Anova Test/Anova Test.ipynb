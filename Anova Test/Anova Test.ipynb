{
 "cells": [
  {
   "cell_type": "markdown",
   "id": "1ee2a595",
   "metadata": {},
   "source": [
    "### Anova Test"
   ]
  },
  {
   "cell_type": "markdown",
   "id": "f7d308ef",
   "metadata": {},
   "source": [
    "Anova Test is use to Compare Two or more mean pf population\n",
    "\n",
    "It Uses F Distribution instead of z, t"
   ]
  },
  {
   "cell_type": "markdown",
   "id": "21f0ceeb",
   "metadata": {},
   "source": [
    "#### Problem Statement\n",
    "\n",
    "To Compare Features of Iris Dataset"
   ]
  },
  {
   "cell_type": "markdown",
   "id": "291c2e34",
   "metadata": {},
   "source": [
    "Defining the Hypothesis,\n",
    "\n",
    "H0: μ1 = μ2 = μ3 = μ4 (No Difference)\n",
    "\n",
    "H1: μ1 = μ2 = μ3 ≠ μ  (At least one is Different)"
   ]
  },
  {
   "cell_type": "code",
   "execution_count": 5,
   "id": "093d9f5f",
   "metadata": {},
   "outputs": [],
   "source": [
    "import seaborn as sns\n",
    "from scipy import stats"
   ]
  },
  {
   "cell_type": "code",
   "execution_count": 4,
   "id": "6fcab58e",
   "metadata": {},
   "outputs": [
    {
     "data": {
      "text/html": [
       "<div>\n",
       "<style scoped>\n",
       "    .dataframe tbody tr th:only-of-type {\n",
       "        vertical-align: middle;\n",
       "    }\n",
       "\n",
       "    .dataframe tbody tr th {\n",
       "        vertical-align: top;\n",
       "    }\n",
       "\n",
       "    .dataframe thead th {\n",
       "        text-align: right;\n",
       "    }\n",
       "</style>\n",
       "<table border=\"1\" class=\"dataframe\">\n",
       "  <thead>\n",
       "    <tr style=\"text-align: right;\">\n",
       "      <th></th>\n",
       "      <th>sepal_length</th>\n",
       "      <th>sepal_width</th>\n",
       "      <th>petal_length</th>\n",
       "      <th>petal_width</th>\n",
       "      <th>species</th>\n",
       "    </tr>\n",
       "  </thead>\n",
       "  <tbody>\n",
       "    <tr>\n",
       "      <th>0</th>\n",
       "      <td>5.1</td>\n",
       "      <td>3.5</td>\n",
       "      <td>1.4</td>\n",
       "      <td>0.2</td>\n",
       "      <td>setosa</td>\n",
       "    </tr>\n",
       "    <tr>\n",
       "      <th>1</th>\n",
       "      <td>4.9</td>\n",
       "      <td>3.0</td>\n",
       "      <td>1.4</td>\n",
       "      <td>0.2</td>\n",
       "      <td>setosa</td>\n",
       "    </tr>\n",
       "    <tr>\n",
       "      <th>2</th>\n",
       "      <td>4.7</td>\n",
       "      <td>3.2</td>\n",
       "      <td>1.3</td>\n",
       "      <td>0.2</td>\n",
       "      <td>setosa</td>\n",
       "    </tr>\n",
       "  </tbody>\n",
       "</table>\n",
       "</div>"
      ],
      "text/plain": [
       "   sepal_length  sepal_width  petal_length  petal_width species\n",
       "0           5.1          3.5           1.4          0.2  setosa\n",
       "1           4.9          3.0           1.4          0.2  setosa\n",
       "2           4.7          3.2           1.3          0.2  setosa"
      ]
     },
     "execution_count": 4,
     "metadata": {},
     "output_type": "execute_result"
    }
   ],
   "source": [
    "iris = sns.load_dataset('iris')\n",
    "iris.head(3)"
   ]
  },
  {
   "cell_type": "code",
   "execution_count": 6,
   "id": "b2400115",
   "metadata": {},
   "outputs": [
    {
     "data": {
      "text/plain": [
       "F_onewayResult(statistic=482.91531656927964, pvalue=4.660592480454751e-159)"
      ]
     },
     "execution_count": 6,
     "metadata": {},
     "output_type": "execute_result"
    }
   ],
   "source": [
    "#Formula of Anova Test -- Gives Two Value t-statistic and p_value\n",
    "\n",
    "p_value = stats.f_oneway(iris[\"sepal_length\"],iris[\"sepal_width\"],iris[\"petal_length\"],iris[\"petal_width\"])\n",
    "p_value"
   ]
  },
  {
   "cell_type": "code",
   "execution_count": 7,
   "id": "fa64644c",
   "metadata": {},
   "outputs": [
    {
     "name": "stdout",
     "output_type": "stream",
     "text": [
      "The p_value is: 4.660592480454751e-159 ,Which is less then α, Reject H0, which means Atleast One is Different\n"
     ]
    }
   ],
   "source": [
    "#Getting the using if conditions\n",
    "α = 0.05  # Standard\n",
    "if p_value[1] < α:\n",
    "    print(\"The p_value is:\",p_value[1],\",Which is less then α, Reject H0, which means Atleast One is Different\")\n",
    "else:\n",
    "    print(\"The p_value is:\",p_value[1],\",Which is greater then α, Fail to Reject H0, No Difference\")"
   ]
  },
  {
   "cell_type": "code",
   "execution_count": null,
   "id": "4cbdf6fb",
   "metadata": {},
   "outputs": [],
   "source": []
  }
 ],
 "metadata": {
  "kernelspec": {
   "display_name": "Python 3",
   "language": "python",
   "name": "python3"
  },
  "language_info": {
   "codemirror_mode": {
    "name": "ipython",
    "version": 3
   },
   "file_extension": ".py",
   "mimetype": "text/x-python",
   "name": "python",
   "nbconvert_exporter": "python",
   "pygments_lexer": "ipython3",
   "version": "3.8.8"
  }
 },
 "nbformat": 4,
 "nbformat_minor": 5
}
