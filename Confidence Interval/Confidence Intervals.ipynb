{
 "cells": [
  {
   "cell_type": "markdown",
   "id": "0779da52",
   "metadata": {},
   "source": [
    "## Confidence Intervals\n",
    "A CI shows the probability that a parameter/variable will fall between a pair of values around the mean\n"
   ]
  },
  {
   "cell_type": "code",
   "execution_count": 1,
   "id": "483fd7dd",
   "metadata": {},
   "outputs": [],
   "source": [
    "#Calculations\n",
    "\n",
    "#theoretically:\n",
    "#x̄ ± z* σ / (√n) --ztest \n",
    "#x̄ ± t* σ / (√n) --ttest \n",
    "#practically\n",
    "#z(1-α)     --stats.norm.cdf(z_value) --to calculate probability area, or probability area unknown\n",
    "            #--stats.norm.ppf(z_value) --to calculate estimate point, when probabilty area is known\n",
    "#t(1-α, df) --stats.t.ppf(t_value,df)"
   ]
  },
  {
   "cell_type": "code",
   "execution_count": 2,
   "id": "4baaa2eb",
   "metadata": {},
   "outputs": [],
   "source": [
    "#Problem --1st\n",
    "\n",
    "#Based on the survey and past data\n",
    "\n",
    "n=140            #no of samples\n",
    "Sigma=2500       #'σ' SD of poppulation\n",
    "x_bar=1990       #x̄ mean\n",
    "S=2833           #S SD of sample"
   ]
  },
  {
   "cell_type": "code",
   "execution_count": 3,
   "id": "4958d26f",
   "metadata": {},
   "outputs": [],
   "source": [
    "#Calculating confidence interval"
   ]
  },
  {
   "cell_type": "code",
   "execution_count": 4,
   "id": "46910378",
   "metadata": {},
   "outputs": [],
   "source": [
    "from scipy import stats\n",
    "import numpy as np"
   ]
  },
  {
   "cell_type": "code",
   "execution_count": 5,
   "id": "6ab4a203",
   "metadata": {},
   "outputs": [],
   "source": [
    "#confidence interval for 95%"
   ]
  },
  {
   "cell_type": "code",
   "execution_count": 6,
   "id": "04c4dd33",
   "metadata": {},
   "outputs": [
    {
     "data": {
      "text/plain": [
       "1.959963984540054"
      ]
     },
     "execution_count": 6,
     "metadata": {},
     "output_type": "execute_result"
    }
   ],
   "source": [
    "z95=stats.norm.ppf(.975) # z_value=95%, %5 remaining, so + 2.5%,so 97.5% --(.975)\n",
    "z95"
   ]
  },
  {
   "cell_type": "code",
   "execution_count": 7,
   "id": "57cb634e",
   "metadata": {},
   "outputs": [
    {
     "data": {
      "text/plain": [
       "1575.8820248378292"
      ]
     },
     "execution_count": 7,
     "metadata": {},
     "output_type": "execute_result"
    }
   ],
   "source": [
    "LL95=x_bar-z95*Sigma/np.sqrt(n)      #x̄ ± z* σ / (√n)\n",
    "LL95"
   ]
  },
  {
   "cell_type": "code",
   "execution_count": 8,
   "id": "aa886b20",
   "metadata": {},
   "outputs": [
    {
     "data": {
      "text/plain": [
       "2404.1179751621708"
      ]
     },
     "execution_count": 8,
     "metadata": {},
     "output_type": "execute_result"
    }
   ],
   "source": [
    "UL95=x_bar+z95*Sigma/np.sqrt(n)\n",
    "UL95"
   ]
  },
  {
   "cell_type": "code",
   "execution_count": 9,
   "id": "3b4a5a49",
   "metadata": {},
   "outputs": [
    {
     "data": {
      "text/plain": [
       "[1575.8820248378292, 2404.1179751621708]"
      ]
     },
     "execution_count": 9,
     "metadata": {},
     "output_type": "execute_result"
    }
   ],
   "source": [
    "CI95=[LL95, UL95]\n",
    "CI95"
   ]
  },
  {
   "cell_type": "code",
   "execution_count": 10,
   "id": "4b3f990e",
   "metadata": {},
   "outputs": [],
   "source": [
    "#confidence interval for 90%"
   ]
  },
  {
   "cell_type": "code",
   "execution_count": 11,
   "id": "d7c8278e",
   "metadata": {},
   "outputs": [
    {
     "data": {
      "text/plain": [
       "1.6448536269514722"
      ]
     },
     "execution_count": 11,
     "metadata": {},
     "output_type": "execute_result"
    }
   ],
   "source": [
    "z90=stats.norm.ppf(.95) # z_value=90%, %10 remaining, + 5%,so 95% --(.95)\n",
    "z90"
   ]
  },
  {
   "cell_type": "code",
   "execution_count": 12,
   "id": "ee517161",
   "metadata": {},
   "outputs": [
    {
     "data": {
      "text/plain": [
       "1642.4612396940827"
      ]
     },
     "execution_count": 12,
     "metadata": {},
     "output_type": "execute_result"
    }
   ],
   "source": [
    "LL90=x_bar-z90*Sigma/np.sqrt(n)      #x̄ ± z* σ / (√n)\n",
    "LL90"
   ]
  },
  {
   "cell_type": "code",
   "execution_count": 13,
   "id": "ce1a9556",
   "metadata": {},
   "outputs": [
    {
     "data": {
      "text/plain": [
       "2337.538760305917"
      ]
     },
     "execution_count": 13,
     "metadata": {},
     "output_type": "execute_result"
    }
   ],
   "source": [
    "UL90=x_bar+z90*Sigma/np.sqrt(n)\n",
    "UL90"
   ]
  },
  {
   "cell_type": "code",
   "execution_count": 14,
   "id": "ec7b7f06",
   "metadata": {},
   "outputs": [
    {
     "data": {
      "text/plain": [
       "[1642.4612396940827, 2337.538760305917]"
      ]
     },
     "execution_count": 14,
     "metadata": {},
     "output_type": "execute_result"
    }
   ],
   "source": [
    "CI90=[LL90, UL90]\n",
    "CI90"
   ]
  },
  {
   "cell_type": "code",
   "execution_count": 15,
   "id": "6ef13c1a",
   "metadata": {},
   "outputs": [],
   "source": [
    "#confidence interval for 99%"
   ]
  },
  {
   "cell_type": "code",
   "execution_count": 16,
   "id": "264b6d49",
   "metadata": {},
   "outputs": [
    {
     "data": {
      "text/plain": [
       "2.5758293035489004"
      ]
     },
     "execution_count": 16,
     "metadata": {},
     "output_type": "execute_result"
    }
   ],
   "source": [
    "z99=stats.norm.ppf(.995) # z_value=99%, %1 remaining, + 0.5%,so 99.5% --(.995)\n",
    "z99"
   ]
  },
  {
   "cell_type": "code",
   "execution_count": 17,
   "id": "959d9f07",
   "metadata": {},
   "outputs": [
    {
     "data": {
      "text/plain": [
       "1445.7567261628137"
      ]
     },
     "execution_count": 17,
     "metadata": {},
     "output_type": "execute_result"
    }
   ],
   "source": [
    "LL99=x_bar-z99*Sigma/np.sqrt(n)      #x̄ ± z* σ / (√n)\n",
    "LL99"
   ]
  },
  {
   "cell_type": "code",
   "execution_count": 18,
   "id": "19b6ac90",
   "metadata": {},
   "outputs": [
    {
     "data": {
      "text/plain": [
       "2534.2432738371863"
      ]
     },
     "execution_count": 18,
     "metadata": {},
     "output_type": "execute_result"
    }
   ],
   "source": [
    "UL99=x_bar+z99*Sigma/np.sqrt(n)\n",
    "UL99"
   ]
  },
  {
   "cell_type": "code",
   "execution_count": 19,
   "id": "d3230570",
   "metadata": {},
   "outputs": [
    {
     "data": {
      "text/plain": [
       "[1445.7567261628137, 2534.2432738371863]"
      ]
     },
     "execution_count": 19,
     "metadata": {},
     "output_type": "execute_result"
    }
   ],
   "source": [
    "CI99=[LL99, UL99]\n",
    "CI99"
   ]
  },
  {
   "cell_type": "code",
   "execution_count": 20,
   "id": "4926130a",
   "metadata": {},
   "outputs": [],
   "source": [
    "#confidence interval for 80%"
   ]
  },
  {
   "cell_type": "code",
   "execution_count": 21,
   "id": "743497d3",
   "metadata": {},
   "outputs": [
    {
     "data": {
      "text/plain": [
       "1.2815515655446004"
      ]
     },
     "execution_count": 21,
     "metadata": {},
     "output_type": "execute_result"
    }
   ],
   "source": [
    "z80=stats.norm.ppf(.90) # z_value=80%, %20 remaining, + 10%,so 90% --(.90)\n",
    "z80"
   ]
  },
  {
   "cell_type": "code",
   "execution_count": 22,
   "id": "1f2985df",
   "metadata": {},
   "outputs": [
    {
     "data": {
      "text/plain": [
       "1719.2228104314975"
      ]
     },
     "execution_count": 22,
     "metadata": {},
     "output_type": "execute_result"
    }
   ],
   "source": [
    "LL80=x_bar-z80*Sigma/np.sqrt(n)      #x̄ ± z* σ / (√n)\n",
    "LL80"
   ]
  },
  {
   "cell_type": "code",
   "execution_count": 23,
   "id": "71959498",
   "metadata": {},
   "outputs": [
    {
     "data": {
      "text/plain": [
       "2260.7771895685028"
      ]
     },
     "execution_count": 23,
     "metadata": {},
     "output_type": "execute_result"
    }
   ],
   "source": [
    "UL80=x_bar+z80*Sigma/np.sqrt(n)\n",
    "UL80"
   ]
  },
  {
   "cell_type": "code",
   "execution_count": 24,
   "id": "c36299ee",
   "metadata": {},
   "outputs": [
    {
     "data": {
      "text/plain": [
       "[1719.2228104314975, 2260.7771895685028]"
      ]
     },
     "execution_count": 24,
     "metadata": {},
     "output_type": "execute_result"
    }
   ],
   "source": [
    "CI80=[LL80, UL80]\n",
    "CI80"
   ]
  },
  {
   "cell_type": "code",
   "execution_count": 25,
   "id": "d19c1ebd",
   "metadata": {},
   "outputs": [],
   "source": [
    "# T Calculation/T Test -- when sigma population SD is not known"
   ]
  },
  {
   "cell_type": "code",
   "execution_count": 26,
   "id": "e94d1257",
   "metadata": {},
   "outputs": [],
   "source": [
    "#95% t Calculation"
   ]
  },
  {
   "cell_type": "code",
   "execution_count": 27,
   "id": "a785a09b",
   "metadata": {},
   "outputs": [
    {
     "data": {
      "text/plain": [
       "1.977177724476122"
      ]
     },
     "execution_count": 27,
     "metadata": {},
     "output_type": "execute_result"
    }
   ],
   "source": [
    "t95=stats.t.ppf(.975,139) # df= n-1, 140-1, 139\n",
    "t95"
   ]
  },
  {
   "cell_type": "code",
   "execution_count": 28,
   "id": "8aa2ec29",
   "metadata": {},
   "outputs": [
    {
     "data": {
      "text/plain": [
       "1516.5999869168315"
      ]
     },
     "execution_count": 28,
     "metadata": {},
     "output_type": "execute_result"
    }
   ],
   "source": [
    "TLL95=x_bar-t95*(S/np.sqrt(n))\n",
    "TLL95"
   ]
  },
  {
   "cell_type": "code",
   "execution_count": 29,
   "id": "91ff9bb9",
   "metadata": {},
   "outputs": [
    {
     "data": {
      "text/plain": [
       "2463.4000130831682"
      ]
     },
     "execution_count": 29,
     "metadata": {},
     "output_type": "execute_result"
    }
   ],
   "source": [
    "TUL95=x_bar+t95*(S/np.sqrt(n))\n",
    "TUL95"
   ]
  },
  {
   "cell_type": "code",
   "execution_count": 30,
   "id": "62e278a0",
   "metadata": {},
   "outputs": [
    {
     "data": {
      "text/plain": [
       "[1516.5999869168315, 2463.4000130831682]"
      ]
     },
     "execution_count": 30,
     "metadata": {},
     "output_type": "execute_result"
    }
   ],
   "source": [
    "CIt_95=[TLL95,TUL95]\n",
    "CIt_95"
   ]
  },
  {
   "cell_type": "code",
   "execution_count": 31,
   "id": "39139eb7",
   "metadata": {},
   "outputs": [],
   "source": [
    "#90% t Calculation"
   ]
  },
  {
   "cell_type": "code",
   "execution_count": 32,
   "id": "82ed5211",
   "metadata": {},
   "outputs": [
    {
     "data": {
      "text/plain": [
       "1.6558898677725957"
      ]
     },
     "execution_count": 32,
     "metadata": {},
     "output_type": "execute_result"
    }
   ],
   "source": [
    "t90=stats.t.ppf(.95,139)\n",
    "t90"
   ]
  },
  {
   "cell_type": "code",
   "execution_count": 33,
   "id": "c745ba96",
   "metadata": {},
   "outputs": [
    {
     "data": {
      "text/plain": [
       "1593.5266453977795"
      ]
     },
     "execution_count": 33,
     "metadata": {},
     "output_type": "execute_result"
    }
   ],
   "source": [
    "TLL90=x_bar-t90*(S/np.sqrt(n))\n",
    "TLL90"
   ]
  },
  {
   "cell_type": "code",
   "execution_count": 34,
   "id": "00cbacd4",
   "metadata": {},
   "outputs": [
    {
     "data": {
      "text/plain": [
       "2386.4733546022203"
      ]
     },
     "execution_count": 34,
     "metadata": {},
     "output_type": "execute_result"
    }
   ],
   "source": [
    "TUL90=x_bar+t90*(S/np.sqrt(n))\n",
    "TUL90"
   ]
  },
  {
   "cell_type": "code",
   "execution_count": 35,
   "id": "ab0d4c12",
   "metadata": {},
   "outputs": [
    {
     "data": {
      "text/plain": [
       "[1593.5266453977795, 2386.4733546022203]"
      ]
     },
     "execution_count": 35,
     "metadata": {},
     "output_type": "execute_result"
    }
   ],
   "source": [
    "CIt_90=[TLL90,TUL90]\n",
    "CIt_90"
   ]
  },
  {
   "cell_type": "code",
   "execution_count": 36,
   "id": "382361ce",
   "metadata": {},
   "outputs": [],
   "source": [
    "#99% t Calculation"
   ]
  },
  {
   "cell_type": "code",
   "execution_count": 37,
   "id": "0ae226a1",
   "metadata": {},
   "outputs": [
    {
     "data": {
      "text/plain": [
       "2.611661966001053"
      ]
     },
     "execution_count": 37,
     "metadata": {},
     "output_type": "execute_result"
    }
   ],
   "source": [
    "t99=stats.t.ppf(.995,139)\n",
    "t99"
   ]
  },
  {
   "cell_type": "code",
   "execution_count": 38,
   "id": "bad78b69",
   "metadata": {},
   "outputs": [
    {
     "data": {
      "text/plain": [
       "1364.68402887186"
      ]
     },
     "execution_count": 38,
     "metadata": {},
     "output_type": "execute_result"
    }
   ],
   "source": [
    "TLL99=x_bar-t99*(S/np.sqrt(n))\n",
    "TLL99"
   ]
  },
  {
   "cell_type": "code",
   "execution_count": 39,
   "id": "c8e79aea",
   "metadata": {},
   "outputs": [
    {
     "data": {
      "text/plain": [
       "2615.31597112814"
      ]
     },
     "execution_count": 39,
     "metadata": {},
     "output_type": "execute_result"
    }
   ],
   "source": [
    "TUL99=x_bar+t99*(S/np.sqrt(n))\n",
    "TUL99"
   ]
  },
  {
   "cell_type": "code",
   "execution_count": 40,
   "id": "7adce247",
   "metadata": {},
   "outputs": [
    {
     "data": {
      "text/plain": [
       "[1364.68402887186, 2615.31597112814]"
      ]
     },
     "execution_count": 40,
     "metadata": {},
     "output_type": "execute_result"
    }
   ],
   "source": [
    "CIt_99=[TLL99,TUL99]\n",
    "CIt_99"
   ]
  },
  {
   "cell_type": "code",
   "execution_count": 41,
   "id": "22e7fab2",
   "metadata": {},
   "outputs": [],
   "source": [
    "#80% t Calculation"
   ]
  },
  {
   "cell_type": "code",
   "execution_count": 42,
   "id": "4157c306",
   "metadata": {},
   "outputs": [
    {
     "data": {
      "text/plain": [
       "1.2876717475181299"
      ]
     },
     "execution_count": 42,
     "metadata": {},
     "output_type": "execute_result"
    }
   ],
   "source": [
    "t80=stats.t.ppf(.90,139)\n",
    "t80"
   ]
  },
  {
   "cell_type": "code",
   "execution_count": 43,
   "id": "293dc479",
   "metadata": {},
   "outputs": [
    {
     "data": {
      "text/plain": [
       "1681.689920144419"
      ]
     },
     "execution_count": 43,
     "metadata": {},
     "output_type": "execute_result"
    }
   ],
   "source": [
    "TLL80=x_bar-t80*(S/np.sqrt(n))\n",
    "TLL80"
   ]
  },
  {
   "cell_type": "code",
   "execution_count": 44,
   "id": "4b974a5c",
   "metadata": {},
   "outputs": [
    {
     "data": {
      "text/plain": [
       "2298.310079855581"
      ]
     },
     "execution_count": 44,
     "metadata": {},
     "output_type": "execute_result"
    }
   ],
   "source": [
    "TUL80=x_bar+t80*(S/np.sqrt(n))\n",
    "TUL80"
   ]
  },
  {
   "cell_type": "code",
   "execution_count": 45,
   "id": "870941a8",
   "metadata": {},
   "outputs": [
    {
     "data": {
      "text/plain": [
       "[1681.689920144419, 2298.310079855581]"
      ]
     },
     "execution_count": 45,
     "metadata": {},
     "output_type": "execute_result"
    }
   ],
   "source": [
    "CIt_80=[TLL80,TUL80]\n",
    "CIt_80"
   ]
  },
  {
   "cell_type": "code",
   "execution_count": null,
   "id": "52515370",
   "metadata": {},
   "outputs": [],
   "source": []
  }
 ],
 "metadata": {
  "kernelspec": {
   "display_name": "Python 3",
   "language": "python",
   "name": "python3"
  },
  "language_info": {
   "codemirror_mode": {
    "name": "ipython",
    "version": 3
   },
   "file_extension": ".py",
   "mimetype": "text/x-python",
   "name": "python",
   "nbconvert_exporter": "python",
   "pygments_lexer": "ipython3",
   "version": "3.8.8"
  }
 },
 "nbformat": 4,
 "nbformat_minor": 5
}
