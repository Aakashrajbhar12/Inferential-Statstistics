{
 "cells": [
  {
   "cell_type": "markdown",
   "id": "f5403742",
   "metadata": {},
   "source": [
    "### Hypothesis Test"
   ]
  },
  {
   "cell_type": "markdown",
   "id": "1e735406",
   "metadata": {},
   "source": [
    "### Problem - 1\n",
    "A Super market plans to launch a loyalty program if it results in an average spending per shoppers of more than 120 dollar per week.\n",
    "A random samples of including 80 shoppers enrolled the pilot program spent average 130 dollar in a week with a standard deviation of 40$.\n",
    "Perform hypothesis test to conclude should the loyalty program be launched"
   ]
  },
  {
   "cell_type": "code",
   "execution_count": 4,
   "id": "05fb1436",
   "metadata": {},
   "outputs": [],
   "source": [
    "#import the libraries\n",
    "import pandas as pd\n",
    "import scipy \n",
    "import numpy as np\n",
    "from scipy import stats"
   ]
  },
  {
   "cell_type": "code",
   "execution_count": 11,
   "id": "1a5606bb",
   "metadata": {},
   "outputs": [],
   "source": [
    "#Steps to follow for hypothesis test\n",
    "\n",
    "#  1.Define the hypothesis: \n",
    "#  H0 -->  null hypothesis -->no change, no action required\n",
    "#  Ha/H1-->Alternate hypothesis-->there is change take action\n",
    "\n",
    "#  2.Select the statistic -- Z test or T-Test\n",
    "\n",
    "#  3.Compute the z/t values\n",
    "\n",
    "#  4.Find probability of Z/t values, p_values\n",
    "\n",
    "#  5.compare the p_value with 'α' (α = 0.05), if p<α --> reject H0, if p>α fail to reject H0(basically accept H0)\n"
   ]
  },
  {
   "cell_type": "code",
   "execution_count": 16,
   "id": "e566bff4",
   "metadata": {},
   "outputs": [],
   "source": [
    "#From Qtn we have,\n",
    "μ=120;          #Population mean\n",
    "n=80;           #no of samples\n",
    "x_bar=130;      #mean of sample\n",
    "s=40;           #SD of sample\n",
    "\n",
    "#Defining the Hypothesis, H0--> μ<=120, H1-->μ>120"
   ]
  },
  {
   "cell_type": "code",
   "execution_count": 17,
   "id": "c22454e6",
   "metadata": {},
   "outputs": [
    {
     "data": {
      "text/plain": [
       "2.23606797749979"
      ]
     },
     "execution_count": 17,
     "metadata": {},
     "output_type": "execute_result"
    }
   ],
   "source": [
    "#T-Test\n",
    "#Since Sigma 'σ' is not given i.e population SD, Then going for t test : x_bar - μ / s/√n\n",
    "\n",
    "t_test = (x_bar - μ)/(s/np.sqrt(n))\n",
    "t_test"
   ]
  },
  {
   "cell_type": "code",
   "execution_count": 18,
   "id": "0eb9eb20",
   "metadata": {},
   "outputs": [
    {
     "data": {
      "text/plain": [
       "0.014292908802574056"
      ]
     },
     "execution_count": 18,
     "metadata": {},
     "output_type": "execute_result"
    }
   ],
   "source": [
    "#Pvalue\n",
    "P_value=1-stats.t.cdf(2.23,df=79) # 1- (because area under the curve=1)\n",
    "P_value\n",
    "\n",
    "#Since P_values < α, reject the H0, so H1-->μ>120 ,so lauch the program"
   ]
  },
  {
   "cell_type": "markdown",
   "id": "c2357e54",
   "metadata": {},
   "source": [
    "### Problem - 2\n",
    "Performances of a call center is monitored by the average call duration.\n",
    "Data from 18 months shows that on the days when the process runs normally μ = 4 min, σ = 3 min.\n",
    "Cannot monitored each and every call due to limited resources; so randomly sample 50 calls per days"
   ]
  },
  {
   "cell_type": "code",
   "execution_count": 19,
   "id": "5ddf92d3",
   "metadata": {},
   "outputs": [],
   "source": [
    "#From Qtn we have,\n",
    "μ = 4;           #Population mean\n",
    "s = 3;           #Population SD\n",
    "n = 50;          #No of samples\n",
    "x_bar = 4.6      #sample mean\n",
    "#Defining the Hypothesis, H0--> μ=4, H1-->μ=!4 ,Since =,!= condition its a one sample two tail test"
   ]
  },
  {
   "cell_type": "code",
   "execution_count": 21,
   "id": "422dc7ea",
   "metadata": {},
   "outputs": [
    {
     "data": {
      "text/plain": [
       "1.4142135623730943"
      ]
     },
     "execution_count": 21,
     "metadata": {},
     "output_type": "execute_result"
    }
   ],
   "source": [
    "#T-test\n",
    "#Since Sigma 'σ' is not given i.e population SD, Then going for t test : x_bar - μ / s/√n\n",
    "t_test2 = (x_bar - μ) / (s/np.sqrt(n))\n",
    "t_test2"
   ]
  },
  {
   "cell_type": "code",
   "execution_count": 25,
   "id": "dd9cf39b",
   "metadata": {},
   "outputs": [
    {
     "data": {
      "text/plain": [
       "0.1648559451804547"
      ]
     },
     "execution_count": 25,
     "metadata": {},
     "output_type": "execute_result"
    }
   ],
   "source": [
    "#P_value \n",
    "p_value=2*stats.t.cdf(-1.41,df=49)  # 2(because its a two tail test), Always put -t value because two tail\n",
    "p_value\n",
    "\n",
    "#Since p_value>α, fail to reject H0--> No action required process was good on that day"
   ]
  },
  {
   "cell_type": "code",
   "execution_count": null,
   "id": "9c5d2bfe",
   "metadata": {},
   "outputs": [],
   "source": [
    "   "
   ]
  },
  {
   "cell_type": "code",
   "execution_count": null,
   "id": "804f6d45",
   "metadata": {},
   "outputs": [],
   "source": []
  }
 ],
 "metadata": {
  "kernelspec": {
   "display_name": "Python 3",
   "language": "python",
   "name": "python3"
  },
  "language_info": {
   "codemirror_mode": {
    "name": "ipython",
    "version": 3
   },
   "file_extension": ".py",
   "mimetype": "text/x-python",
   "name": "python",
   "nbconvert_exporter": "python",
   "pygments_lexer": "ipython3",
   "version": "3.8.8"
  }
 },
 "nbformat": 4,
 "nbformat_minor": 5
}
