{
 "cells": [
  {
   "cell_type": "markdown",
   "id": "85b0b4bf",
   "metadata": {},
   "source": [
    "### Hypothesis Test"
   ]
  },
  {
   "cell_type": "markdown",
   "id": "fabd7f6d",
   "metadata": {},
   "source": [
    "#### Problem\n",
    "Performances of a call center is monitored by the average call duration.\n",
    "Data from 18 months shows that on the days when the process runs normally μ = 4 min, σ = 3 min.\n",
    "Cannot monitored each and every call due to limited resources; so randomly sample 50 calls per days\n"
   ]
  },
  {
   "cell_type": "markdown",
   "id": "b2f72364",
   "metadata": {},
   "source": [
    "#### Note:\n",
    "We are going to solve this problem with 20 different x_bar i.e sample mean, daily variation in sample mean for 20 days"
   ]
  },
  {
   "cell_type": "code",
   "execution_count": 1,
   "id": "ab3b8f9e",
   "metadata": {},
   "outputs": [],
   "source": [
    "#import the libraries\n",
    "import pandas as pd\n",
    "import scipy \n",
    "import numpy as np\n",
    "from scipy import stats"
   ]
  },
  {
   "cell_type": "code",
   "execution_count": 2,
   "id": "d07aa342",
   "metadata": {},
   "outputs": [],
   "source": [
    "#From Qtn we have,\n",
    "μ = 4;           #Population mean\n",
    "s = 3;           #Population SD\n",
    "n = 50;          #No of samples\n",
    "#Defining the Hypothesis,\n",
    "#                      H0--> μ=4, H1-->μ=!4 ,Since =,!= condition its a one sample two tail test"
   ]
  },
  {
   "cell_type": "code",
   "execution_count": 3,
   "id": "edfcd76c",
   "metadata": {},
   "outputs": [],
   "source": [
    "#For Day1 x_bar1\n",
    "x_bar1 = 3.7"
   ]
  },
  {
   "cell_type": "code",
   "execution_count": 4,
   "id": "20737005",
   "metadata": {},
   "outputs": [
    {
     "data": {
      "text/plain": [
       "-0.7071067811865471"
      ]
     },
     "execution_count": 4,
     "metadata": {},
     "output_type": "execute_result"
    }
   ],
   "source": [
    "#T-test\n",
    "#Since Sigma 'σ' is not given i.e population SD, Then going for t test : x_bar - μ / s/√n\n",
    "t_test1 = (x_bar1 - μ) /(s/np.sqrt(n))\n",
    "t_test1"
   ]
  },
  {
   "cell_type": "code",
   "execution_count": 5,
   "id": "17176555",
   "metadata": {},
   "outputs": [
    {
     "data": {
      "text/plain": [
       "0.48284957070830226"
      ]
     },
     "execution_count": 5,
     "metadata": {},
     "output_type": "execute_result"
    }
   ],
   "source": [
    "#P-value\n",
    "p_value1 = 2*stats.t.cdf(t_test1,df=49)  # 2(because its a two tail test), Always put -t value because two tail\n",
    "p_value1"
   ]
  },
  {
   "cell_type": "code",
   "execution_count": 6,
   "id": "328c0178",
   "metadata": {},
   "outputs": [
    {
     "name": "stdout",
     "output_type": "stream",
     "text": [
      "p_value1: 0.48284957070830226 , Since p_value1>α, fail to reject H0--> No action required process was good on that day\n"
     ]
    }
   ],
   "source": [
    "#Result for Day1\n",
    "print(\"p_value1:\",p_value1,\", Since p_value1>α, fail to reject H0--> No action required process was good on that day\")"
   ]
  },
  {
   "cell_type": "code",
   "execution_count": 7,
   "id": "ba25dd1e",
   "metadata": {},
   "outputs": [],
   "source": [
    "#For Day2 x_bar2\n",
    "x_bar2 = 4.1"
   ]
  },
  {
   "cell_type": "code",
   "execution_count": 8,
   "id": "32dd31b3",
   "metadata": {},
   "outputs": [
    {
     "data": {
      "text/plain": [
       "0.235702260395515"
      ]
     },
     "execution_count": 8,
     "metadata": {},
     "output_type": "execute_result"
    }
   ],
   "source": [
    "#T-test\n",
    "t_test2 = (x_bar2 - μ) /(s/np.sqrt(n))\n",
    "t_test2"
   ]
  },
  {
   "cell_type": "code",
   "execution_count": 9,
   "id": "8b923115",
   "metadata": {},
   "outputs": [
    {
     "data": {
      "text/plain": [
       "0.8146461024627443"
      ]
     },
     "execution_count": 9,
     "metadata": {},
     "output_type": "execute_result"
    }
   ],
   "source": [
    "#P_value\n",
    "p_value2 = 2*stats.t.cdf(-t_test2,df=49) #2* because its a two tail test, if t_value is not (-), put -t_value becoz two tail\n",
    "p_value2"
   ]
  },
  {
   "cell_type": "code",
   "execution_count": 10,
   "id": "91178658",
   "metadata": {},
   "outputs": [
    {
     "name": "stdout",
     "output_type": "stream",
     "text": [
      "p_value2: 0.8146461024627443 , Since p_value2>α, fail to reject H0--> No action required process was good on that day\n"
     ]
    }
   ],
   "source": [
    "print(\"p_value2:\",p_value2,\", Since p_value2>α, fail to reject H0--> No action required process was good on that day\")"
   ]
  },
  {
   "cell_type": "code",
   "execution_count": 11,
   "id": "569da3d6",
   "metadata": {},
   "outputs": [],
   "source": [
    "# For Day3 x_bar3\n",
    "x_bar3 = 3.5"
   ]
  },
  {
   "cell_type": "code",
   "execution_count": 12,
   "id": "7fc87989",
   "metadata": {},
   "outputs": [
    {
     "data": {
      "text/plain": [
       "-1.1785113019775793"
      ]
     },
     "execution_count": 12,
     "metadata": {},
     "output_type": "execute_result"
    }
   ],
   "source": [
    "#T-test\n",
    "t_test3 = (x_bar3 - μ) / (s/np.sqrt(n))\n",
    "t_test3"
   ]
  },
  {
   "cell_type": "code",
   "execution_count": 13,
   "id": "4375c491",
   "metadata": {},
   "outputs": [
    {
     "data": {
      "text/plain": [
       "0.24428433153451604"
      ]
     },
     "execution_count": 13,
     "metadata": {},
     "output_type": "execute_result"
    }
   ],
   "source": [
    "#P_value\n",
    "p_value3 = 2*stats.t.cdf(t_test3,df=49)\n",
    "p_value3"
   ]
  },
  {
   "cell_type": "code",
   "execution_count": 14,
   "id": "65d3fdbb",
   "metadata": {},
   "outputs": [
    {
     "name": "stdout",
     "output_type": "stream",
     "text": [
      "p_value3: 0.24428433153451604 , Since p_value3>α, fail to reject H0--> No action required process was good on that day\n"
     ]
    }
   ],
   "source": [
    "print(\"p_value3:\",p_value3,\", Since p_value3>α, fail to reject H0--> No action required process was good on that day\")"
   ]
  },
  {
   "cell_type": "code",
   "execution_count": 15,
   "id": "454bad28",
   "metadata": {},
   "outputs": [],
   "source": [
    "#For Day4 x_bar4\n",
    "x_bar4 = 4.2"
   ]
  },
  {
   "cell_type": "code",
   "execution_count": 16,
   "id": "64a7f5b2",
   "metadata": {},
   "outputs": [
    {
     "data": {
      "text/plain": [
       "0.4714045207910321"
      ]
     },
     "execution_count": 16,
     "metadata": {},
     "output_type": "execute_result"
    }
   ],
   "source": [
    "#T-test\n",
    "t_test4 = (x_bar4 - μ) / (s/np.sqrt(n))\n",
    "t_test4"
   ]
  },
  {
   "cell_type": "code",
   "execution_count": 17,
   "id": "c6fedfbc",
   "metadata": {},
   "outputs": [
    {
     "data": {
      "text/plain": [
       "0.6394441249021059"
      ]
     },
     "execution_count": 17,
     "metadata": {},
     "output_type": "execute_result"
    }
   ],
   "source": [
    "#P_value\n",
    "p_value4 = 2*stats.t.cdf(-t_test4,df=49) #Since t_test4 is postive so puting -t_test4 becoz two tail test\n",
    "p_value4"
   ]
  },
  {
   "cell_type": "code",
   "execution_count": 18,
   "id": "318a287e",
   "metadata": {},
   "outputs": [
    {
     "name": "stdout",
     "output_type": "stream",
     "text": [
      "p_value4: 0.6394441249021059 , Since p_value4>α, fail to reject H0--> No action required process was good on that day\n"
     ]
    }
   ],
   "source": [
    "print(\"p_value4:\",p_value4,\", Since p_value4>α, fail to reject H0--> No action required process was good on that day\")"
   ]
  },
  {
   "cell_type": "code",
   "execution_count": 19,
   "id": "da8ce0a7",
   "metadata": {},
   "outputs": [],
   "source": [
    "#For Day5 x_bar5\n",
    "x_bar5 = 3.9"
   ]
  },
  {
   "cell_type": "code",
   "execution_count": 20,
   "id": "5aac6268",
   "metadata": {},
   "outputs": [
    {
     "data": {
      "text/plain": [
       "-0.23570226039551606"
      ]
     },
     "execution_count": 20,
     "metadata": {},
     "output_type": "execute_result"
    }
   ],
   "source": [
    "#T-Test\n",
    "t_test5 = (x_bar5 - μ) / (s/np.sqrt(n))\n",
    "t_test5"
   ]
  },
  {
   "cell_type": "code",
   "execution_count": 21,
   "id": "cd7fa320",
   "metadata": {},
   "outputs": [
    {
     "data": {
      "text/plain": [
       "0.8146461024627435"
      ]
     },
     "execution_count": 21,
     "metadata": {},
     "output_type": "execute_result"
    }
   ],
   "source": [
    "#P_value\n",
    "p_value5 = 2*stats.t.cdf(t_test5,df=49) #Not -t_test5 because its value is already negative\n",
    "p_value5"
   ]
  },
  {
   "cell_type": "code",
   "execution_count": 22,
   "id": "a090e750",
   "metadata": {},
   "outputs": [
    {
     "name": "stdout",
     "output_type": "stream",
     "text": [
      "p_value5: 0.8146461024627435 , Since p_value5>α, fail to reject H0--> No action required process was good on that day\n"
     ]
    }
   ],
   "source": [
    "print(\"p_value5:\",p_value5,\", Since p_value5>α, fail to reject H0--> No action required process was good on that day\")"
   ]
  },
  {
   "cell_type": "code",
   "execution_count": 23,
   "id": "64c87d46",
   "metadata": {},
   "outputs": [],
   "source": [
    "#For Day6 x_bar6\n",
    "x_bar6 = 4.1"
   ]
  },
  {
   "cell_type": "code",
   "execution_count": 24,
   "id": "97f9f8ac",
   "metadata": {},
   "outputs": [
    {
     "data": {
      "text/plain": [
       "0.235702260395515"
      ]
     },
     "execution_count": 24,
     "metadata": {},
     "output_type": "execute_result"
    }
   ],
   "source": [
    "#T-test\n",
    "t_test6 = (x_bar6 - μ) / (s/np.sqrt(n))\n",
    "t_test6"
   ]
  },
  {
   "cell_type": "code",
   "execution_count": 25,
   "id": "2f8937cf",
   "metadata": {},
   "outputs": [
    {
     "data": {
      "text/plain": [
       "0.8146461024627443"
      ]
     },
     "execution_count": 25,
     "metadata": {},
     "output_type": "execute_result"
    }
   ],
   "source": [
    "#P_value\n",
    "p_value6 = 2*stats.t.cdf(-t_test6,df=49) # -t_test6,because t_test6 value is positive\n",
    "p_value6"
   ]
  },
  {
   "cell_type": "code",
   "execution_count": 26,
   "id": "29b80aca",
   "metadata": {},
   "outputs": [
    {
     "name": "stdout",
     "output_type": "stream",
     "text": [
      "p_value6: 0.8146461024627443 , Since p_value6>α, fail to reject H0--> No action required process was good on that day\n"
     ]
    }
   ],
   "source": [
    "print(\"p_value6:\",p_value6,\", Since p_value6>α, fail to reject H0--> No action required process was good on that day\")"
   ]
  },
  {
   "cell_type": "code",
   "execution_count": 27,
   "id": "47c24e76",
   "metadata": {},
   "outputs": [],
   "source": [
    "#For Day7 x_bar7\n",
    "x_bar7 = 4.2"
   ]
  },
  {
   "cell_type": "code",
   "execution_count": 28,
   "id": "e8f636cf",
   "metadata": {},
   "outputs": [
    {
     "data": {
      "text/plain": [
       "0.4714045207910321"
      ]
     },
     "execution_count": 28,
     "metadata": {},
     "output_type": "execute_result"
    }
   ],
   "source": [
    "#T-test\n",
    "t_test7 =(x_bar7 -μ) / (s/np.sqrt(n))\n",
    "t_test7"
   ]
  },
  {
   "cell_type": "code",
   "execution_count": 29,
   "id": "a56c157e",
   "metadata": {},
   "outputs": [
    {
     "data": {
      "text/plain": [
       "0.6394441249021059"
      ]
     },
     "execution_count": 29,
     "metadata": {},
     "output_type": "execute_result"
    }
   ],
   "source": [
    "#P_value\n",
    "p_value7 = 2*stats.t.cdf(-t_test7,df=49) # -t_test7,because t_test7 value is positive\n",
    "p_value7"
   ]
  },
  {
   "cell_type": "code",
   "execution_count": 30,
   "id": "ab04587c",
   "metadata": {},
   "outputs": [
    {
     "name": "stdout",
     "output_type": "stream",
     "text": [
      "p_value7: 0.6394441249021059 , Since p_value7>α, fail to reject H0--> No action required process was good on that day\n"
     ]
    }
   ],
   "source": [
    "print(\"p_value7:\",p_value7,\", Since p_value7>α, fail to reject H0--> No action required process was good on that day\")"
   ]
  },
  {
   "cell_type": "code",
   "execution_count": 31,
   "id": "0d36ce1c",
   "metadata": {},
   "outputs": [],
   "source": [
    "#For Day8 x_bar8\n",
    "x_bar8 = 3.8"
   ]
  },
  {
   "cell_type": "code",
   "execution_count": 32,
   "id": "adca1b10",
   "metadata": {},
   "outputs": [
    {
     "data": {
      "text/plain": [
       "-0.4714045207910321"
      ]
     },
     "execution_count": 32,
     "metadata": {},
     "output_type": "execute_result"
    }
   ],
   "source": [
    "#T-test\n",
    "t_test8 = (x_bar8 - μ) / (s/np.sqrt(n))\n",
    "t_test8"
   ]
  },
  {
   "cell_type": "code",
   "execution_count": 33,
   "id": "1c5867cd",
   "metadata": {},
   "outputs": [
    {
     "data": {
      "text/plain": [
       "0.6394441249021059"
      ]
     },
     "execution_count": 33,
     "metadata": {},
     "output_type": "execute_result"
    }
   ],
   "source": [
    "#P_value\n",
    "p_value8 = 2*stats.t.cdf(t_test8,df=49) # No -t_test8, because t_test8 is already negative\n",
    "p_value8"
   ]
  },
  {
   "cell_type": "code",
   "execution_count": 34,
   "id": "87c515f2",
   "metadata": {},
   "outputs": [
    {
     "name": "stdout",
     "output_type": "stream",
     "text": [
      "p_value8: 0.6394441249021059 , Since p_value8>α, fail to reject H0--> No action required process was good on that day\n"
     ]
    }
   ],
   "source": [
    "print(\"p_value8:\",p_value8,\", Since p_value8>α, fail to reject H0--> No action required process was good on that day\")"
   ]
  },
  {
   "cell_type": "code",
   "execution_count": 35,
   "id": "5b9dec8b",
   "metadata": {},
   "outputs": [],
   "source": [
    "#For Day9 x_bar9\n",
    "x_bar9 = 3.7"
   ]
  },
  {
   "cell_type": "code",
   "execution_count": 36,
   "id": "aad3cf5f",
   "metadata": {},
   "outputs": [
    {
     "data": {
      "text/plain": [
       "-0.7071067811865471"
      ]
     },
     "execution_count": 36,
     "metadata": {},
     "output_type": "execute_result"
    }
   ],
   "source": [
    "#T-test\n",
    "t_test9 = (x_bar9 -μ) / (s/np.sqrt(n))\n",
    "t_test9"
   ]
  },
  {
   "cell_type": "code",
   "execution_count": 37,
   "id": "5b170136",
   "metadata": {},
   "outputs": [
    {
     "data": {
      "text/plain": [
       "0.48284957070830226"
      ]
     },
     "execution_count": 37,
     "metadata": {},
     "output_type": "execute_result"
    }
   ],
   "source": [
    "#P_value\n",
    "p_value9 = 2*stats.t.cdf(t_test9,df=49) # No -t_test9, because t_test9 is already negative\n",
    "p_value9"
   ]
  },
  {
   "cell_type": "code",
   "execution_count": 38,
   "id": "dc991f8f",
   "metadata": {},
   "outputs": [
    {
     "name": "stdout",
     "output_type": "stream",
     "text": [
      "p_value9: 0.48284957070830226 , Since p_value9>α, fail to reject H0--> No action required process was good on that day\n"
     ]
    }
   ],
   "source": [
    "print(\"p_value9:\",p_value9,\", Since p_value9>α, fail to reject H0--> No action required process was good on that day\")"
   ]
  },
  {
   "cell_type": "code",
   "execution_count": 39,
   "id": "d5057c3e",
   "metadata": {},
   "outputs": [],
   "source": [
    "#For Day10 x_bar10\n",
    "x_bar10 = 4.6"
   ]
  },
  {
   "cell_type": "code",
   "execution_count": 40,
   "id": "140e5586",
   "metadata": {},
   "outputs": [
    {
     "data": {
      "text/plain": [
       "1.4142135623730943"
      ]
     },
     "execution_count": 40,
     "metadata": {},
     "output_type": "execute_result"
    }
   ],
   "source": [
    "#T-test\n",
    "t_test10 = (x_bar10 - μ) / (s/np.sqrt(n))\n",
    "t_test10"
   ]
  },
  {
   "cell_type": "code",
   "execution_count": 41,
   "id": "7e33db2b",
   "metadata": {},
   "outputs": [
    {
     "data": {
      "text/plain": [
       "0.16362201811838478"
      ]
     },
     "execution_count": 41,
     "metadata": {},
     "output_type": "execute_result"
    }
   ],
   "source": [
    "#P_value\n",
    "p_value10 = 2*stats.t.cdf(-t_test10,df=49) # -t_test10,because t_test10 value is positive\n",
    "p_value10"
   ]
  },
  {
   "cell_type": "code",
   "execution_count": 42,
   "id": "fb1fbb4b",
   "metadata": {},
   "outputs": [
    {
     "name": "stdout",
     "output_type": "stream",
     "text": [
      "p_value10: 0.16362201811838478 , Since p_value10>α, fail to reject H0--> No action required process was good on that day\n"
     ]
    }
   ],
   "source": [
    "print(\"p_value10:\",p_value10,\", Since p_value10>α, fail to reject H0--> No action required process was good on that day\")"
   ]
  },
  {
   "cell_type": "code",
   "execution_count": 43,
   "id": "2aa9e212",
   "metadata": {},
   "outputs": [],
   "source": [
    "#For Day11 x_bar11\n",
    "x_bar11 = 3.7"
   ]
  },
  {
   "cell_type": "code",
   "execution_count": 44,
   "id": "10438111",
   "metadata": {},
   "outputs": [
    {
     "data": {
      "text/plain": [
       "-0.7071067811865471"
      ]
     },
     "execution_count": 44,
     "metadata": {},
     "output_type": "execute_result"
    }
   ],
   "source": [
    "#T-test\n",
    "t_test11 = (x_bar11 - μ) / (s/np.sqrt(n))\n",
    "t_test11"
   ]
  },
  {
   "cell_type": "code",
   "execution_count": 45,
   "id": "5a25b574",
   "metadata": {},
   "outputs": [
    {
     "data": {
      "text/plain": [
       "0.48284957070830226"
      ]
     },
     "execution_count": 45,
     "metadata": {},
     "output_type": "execute_result"
    }
   ],
   "source": [
    "#P_value\n",
    "p_value11 = 2*stats.t.cdf(t_test11,df=49) # No -t_test11, because t_test11 is already negative\n",
    "p_value11"
   ]
  },
  {
   "cell_type": "code",
   "execution_count": 46,
   "id": "db14c4db",
   "metadata": {},
   "outputs": [
    {
     "name": "stdout",
     "output_type": "stream",
     "text": [
      "p_value11: 0.48284957070830226 , Since p_value11>α, fail to reject H0--> No action required process was good on that day\n"
     ]
    }
   ],
   "source": [
    "print(\"p_value11:\",p_value11,\", Since p_value11>α, fail to reject H0--> No action required process was good on that day\")"
   ]
  },
  {
   "cell_type": "code",
   "execution_count": 47,
   "id": "940e3de1",
   "metadata": {},
   "outputs": [],
   "source": [
    "#For Day12 x_bar12\n",
    "x_bar12 = 4.6"
   ]
  },
  {
   "cell_type": "code",
   "execution_count": 48,
   "id": "1bc95413",
   "metadata": {},
   "outputs": [
    {
     "data": {
      "text/plain": [
       "1.4142135623730943"
      ]
     },
     "execution_count": 48,
     "metadata": {},
     "output_type": "execute_result"
    }
   ],
   "source": [
    "#T-test \n",
    "t_test12 = (x_bar12 - μ) / (s/np.sqrt(n))\n",
    "t_test12"
   ]
  },
  {
   "cell_type": "code",
   "execution_count": 49,
   "id": "ae5ee5f5",
   "metadata": {},
   "outputs": [
    {
     "data": {
      "text/plain": [
       "0.16362201811838478"
      ]
     },
     "execution_count": 49,
     "metadata": {},
     "output_type": "execute_result"
    }
   ],
   "source": [
    "#P_value\n",
    "p_value12 = 2*stats.t.cdf(-t_test12,df=49) # -t_test12,because t_test12 value is positive\n",
    "p_value12"
   ]
  },
  {
   "cell_type": "code",
   "execution_count": 50,
   "id": "e2fc90c2",
   "metadata": {},
   "outputs": [
    {
     "name": "stdout",
     "output_type": "stream",
     "text": [
      "p_value12: 0.16362201811838478 , Since p_value12>α, fail to reject H0--> No action required process was good on that day\n"
     ]
    }
   ],
   "source": [
    "print(\"p_value12:\",p_value12,\", Since p_value12>α, fail to reject H0--> No action required process was good on that day\")"
   ]
  },
  {
   "cell_type": "code",
   "execution_count": 51,
   "id": "b9888494",
   "metadata": {},
   "outputs": [],
   "source": [
    "#For Day13 x_bar13\n",
    "x_bar13 = 4.0"
   ]
  },
  {
   "cell_type": "code",
   "execution_count": 52,
   "id": "d8998cb2",
   "metadata": {},
   "outputs": [
    {
     "data": {
      "text/plain": [
       "0.0"
      ]
     },
     "execution_count": 52,
     "metadata": {},
     "output_type": "execute_result"
    }
   ],
   "source": [
    "#T-test\n",
    "t_test13 = (x_bar13 - μ) / (s/np.sqrt(n))\n",
    "t_test13"
   ]
  },
  {
   "cell_type": "code",
   "execution_count": 53,
   "id": "893d5752",
   "metadata": {},
   "outputs": [
    {
     "data": {
      "text/plain": [
       "1.0"
      ]
     },
     "execution_count": 53,
     "metadata": {},
     "output_type": "execute_result"
    }
   ],
   "source": [
    "#P_value\n",
    "p_value13 = 2*stats.t.cdf(-t_test13,df=49) # -t_test13,because t_test13 value is positive /Zero\n",
    "p_value13"
   ]
  },
  {
   "cell_type": "code",
   "execution_count": 54,
   "id": "7c64e8c8",
   "metadata": {},
   "outputs": [
    {
     "name": "stdout",
     "output_type": "stream",
     "text": [
      "p_value13: 1.0 Since x_bar=μ, p_value>α, fail to reject H0--> No action required process was good on that day\n"
     ]
    }
   ],
   "source": [
    "print(\"p_value13:\",p_value13,\"Since x_bar=μ, p_value>α, fail to reject H0--> No action required process was good on that day\")"
   ]
  },
  {
   "cell_type": "code",
   "execution_count": 55,
   "id": "45d0baeb",
   "metadata": {},
   "outputs": [],
   "source": [
    "#For Day14 x_bar14\n",
    "x_bar14 = 4.2"
   ]
  },
  {
   "cell_type": "code",
   "execution_count": 56,
   "id": "9faeff73",
   "metadata": {},
   "outputs": [
    {
     "data": {
      "text/plain": [
       "0.4714045207910321"
      ]
     },
     "execution_count": 56,
     "metadata": {},
     "output_type": "execute_result"
    }
   ],
   "source": [
    "#T-test\n",
    "t_test14 = (x_bar14 - μ) / (s/np.sqrt(n))\n",
    "t_test14"
   ]
  },
  {
   "cell_type": "code",
   "execution_count": 57,
   "id": "ea3e451b",
   "metadata": {},
   "outputs": [
    {
     "data": {
      "text/plain": [
       "0.6394441249021059"
      ]
     },
     "execution_count": 57,
     "metadata": {},
     "output_type": "execute_result"
    }
   ],
   "source": [
    "#P_value\n",
    "p_value14 = 2*stats.t.cdf(-t_test14,df=49) # -t_test14,because t_test14 value is positive\n",
    "p_value14"
   ]
  },
  {
   "cell_type": "code",
   "execution_count": 58,
   "id": "110d7013",
   "metadata": {},
   "outputs": [
    {
     "name": "stdout",
     "output_type": "stream",
     "text": [
      "p_value14: 0.6394441249021059 , Since p_value14>α, fail to reject H0--> No action required process was good on that day\n"
     ]
    }
   ],
   "source": [
    "print(\"p_value14:\",p_value14,\", Since p_value14>α, fail to reject H0--> No action required process was good on that day\")"
   ]
  },
  {
   "cell_type": "code",
   "execution_count": 59,
   "id": "eea1d987",
   "metadata": {},
   "outputs": [],
   "source": [
    "#For Day15 x_bar15\n",
    "x_bar15 = 3.8"
   ]
  },
  {
   "cell_type": "code",
   "execution_count": 60,
   "id": "f510aea2",
   "metadata": {},
   "outputs": [
    {
     "data": {
      "text/plain": [
       "-0.4714045207910321"
      ]
     },
     "execution_count": 60,
     "metadata": {},
     "output_type": "execute_result"
    }
   ],
   "source": [
    "#T-test\n",
    "t_test15 = (x_bar15 - μ) / (s/np.sqrt(n))\n",
    "t_test15"
   ]
  },
  {
   "cell_type": "code",
   "execution_count": 61,
   "id": "c9e6d237",
   "metadata": {},
   "outputs": [
    {
     "data": {
      "text/plain": [
       "0.6394441249021059"
      ]
     },
     "execution_count": 61,
     "metadata": {},
     "output_type": "execute_result"
    }
   ],
   "source": [
    "#P_value\n",
    "p_value15 = 2*stats.t.cdf(t_test15,df=49) # No -t_test15, because t_test15 is already negative\n",
    "p_value15"
   ]
  },
  {
   "cell_type": "code",
   "execution_count": 62,
   "id": "80dd33e1",
   "metadata": {},
   "outputs": [
    {
     "name": "stdout",
     "output_type": "stream",
     "text": [
      "p_value15: 0.6394441249021059 , Since p_value15>α, fail to reject H0--> No action required process was good on that day\n"
     ]
    }
   ],
   "source": [
    "print(\"p_value15:\",p_value15,\", Since p_value15>α, fail to reject H0--> No action required process was good on that day\")"
   ]
  },
  {
   "cell_type": "code",
   "execution_count": 63,
   "id": "8e47c465",
   "metadata": {},
   "outputs": [],
   "source": [
    "#For Day16 x_bar16\n",
    "x_bar16 = 4.4"
   ]
  },
  {
   "cell_type": "code",
   "execution_count": 64,
   "id": "f6d3d114",
   "metadata": {},
   "outputs": [
    {
     "data": {
      "text/plain": [
       "0.9428090415820642"
      ]
     },
     "execution_count": 64,
     "metadata": {},
     "output_type": "execute_result"
    }
   ],
   "source": [
    "#T-test\n",
    "t_test16 = (x_bar16 - μ) / (s/np.sqrt(n))\n",
    "t_test16"
   ]
  },
  {
   "cell_type": "code",
   "execution_count": 65,
   "id": "95b84273",
   "metadata": {},
   "outputs": [
    {
     "data": {
      "text/plain": [
       "0.3504040460736161"
      ]
     },
     "execution_count": 65,
     "metadata": {},
     "output_type": "execute_result"
    }
   ],
   "source": [
    "#P_value\n",
    "p_value16 = 2*stats.t.cdf(-t_test16,df=49) # -t_test16,because t_test16 value is positive\n",
    "p_value16"
   ]
  },
  {
   "cell_type": "code",
   "execution_count": 66,
   "id": "9efdfc76",
   "metadata": {},
   "outputs": [
    {
     "name": "stdout",
     "output_type": "stream",
     "text": [
      "p_value16: 0.3504040460736161 , Since p_value16>α, fail to reject H0--> No action required process was good on that day\n"
     ]
    }
   ],
   "source": [
    "print(\"p_value16:\",p_value16,\", Since p_value16>α, fail to reject H0--> No action required process was good on that day\")"
   ]
  },
  {
   "cell_type": "code",
   "execution_count": 67,
   "id": "4c0f65ac",
   "metadata": {},
   "outputs": [],
   "source": [
    "#For Day17 x_bar17\n",
    "x_bar17 = 5.3"
   ]
  },
  {
   "cell_type": "code",
   "execution_count": 68,
   "id": "5a492021",
   "metadata": {},
   "outputs": [
    {
     "data": {
      "text/plain": [
       "3.0641293851417055"
      ]
     },
     "execution_count": 68,
     "metadata": {},
     "output_type": "execute_result"
    }
   ],
   "source": [
    "#T-test\n",
    "t_test17 = (x_bar17 - μ) / (s/np.sqrt(n))\n",
    "t_test17"
   ]
  },
  {
   "cell_type": "code",
   "execution_count": 69,
   "id": "3aef77cb",
   "metadata": {},
   "outputs": [
    {
     "data": {
      "text/plain": [
       "0.003543589847173727"
      ]
     },
     "execution_count": 69,
     "metadata": {},
     "output_type": "execute_result"
    }
   ],
   "source": [
    "#P_value \n",
    "p_value17 = 2*stats.t.cdf(-t_test17,df=49) # -t_test17,because t_test17 value is positive\n",
    "p_value17"
   ]
  },
  {
   "cell_type": "code",
   "execution_count": 70,
   "id": "22575ef9",
   "metadata": {},
   "outputs": [
    {
     "name": "stdout",
     "output_type": "stream",
     "text": [
      "p_value17: 0.003543589847173727 , Since p_value16<α, Reject H0--> Action required process was not good on that day\n"
     ]
    }
   ],
   "source": [
    "print(\"p_value17:\",p_value17,\", Since p_value16<α, Reject H0--> Action required process was not good on that day\")"
   ]
  },
  {
   "cell_type": "code",
   "execution_count": 71,
   "id": "f93687d2",
   "metadata": {},
   "outputs": [],
   "source": [
    "#For Day18 x_bar18\n",
    "x_bar18 = 6.1"
   ]
  },
  {
   "cell_type": "code",
   "execution_count": 72,
   "id": "6611118d",
   "metadata": {},
   "outputs": [
    {
     "data": {
      "text/plain": [
       "4.949747468305832"
      ]
     },
     "execution_count": 72,
     "metadata": {},
     "output_type": "execute_result"
    }
   ],
   "source": [
    "#T-test\n",
    "t_test18 = (x_bar18 - μ) / (s/np.sqrt(n))\n",
    "t_test18"
   ]
  },
  {
   "cell_type": "code",
   "execution_count": 73,
   "id": "010e1122",
   "metadata": {},
   "outputs": [
    {
     "data": {
      "text/plain": [
       "9.189352704609621e-06"
      ]
     },
     "execution_count": 73,
     "metadata": {},
     "output_type": "execute_result"
    }
   ],
   "source": [
    "#P_value\n",
    "p_value18 = 2*stats.t.cdf(-t_test18,df=49) # -t_test18,because t_test18 value is positive\n",
    "p_value18"
   ]
  },
  {
   "cell_type": "code",
   "execution_count": 74,
   "id": "f4408582",
   "metadata": {},
   "outputs": [
    {
     "name": "stdout",
     "output_type": "stream",
     "text": [
      "p_value18: 9.189352704609621e-06 , Since p_value18<α,fail to reject H0--> No action required process was good on that day\n"
     ]
    }
   ],
   "source": [
    "print(\"p_value18:\",p_value18,\", Since p_value18<α,fail to reject H0--> No action required process was good on that day\")"
   ]
  },
  {
   "cell_type": "code",
   "execution_count": 75,
   "id": "072a014e",
   "metadata": {},
   "outputs": [],
   "source": [
    "#For Day19 x_bar19\n",
    "x_bar19 = 7.2"
   ]
  },
  {
   "cell_type": "code",
   "execution_count": 76,
   "id": "15794379",
   "metadata": {},
   "outputs": [
    {
     "data": {
      "text/plain": [
       "7.542472332656508"
      ]
     },
     "execution_count": 76,
     "metadata": {},
     "output_type": "execute_result"
    }
   ],
   "source": [
    "#T-test \n",
    "t_test19 = (x_bar19 - μ) / (s/np.sqrt(n))\n",
    "t_test19"
   ]
  },
  {
   "cell_type": "code",
   "execution_count": 77,
   "id": "a21cd060",
   "metadata": {},
   "outputs": [
    {
     "data": {
      "text/plain": [
       "9.626040426487692e-10"
      ]
     },
     "execution_count": 77,
     "metadata": {},
     "output_type": "execute_result"
    }
   ],
   "source": [
    "#P_value\n",
    "p_value19 = 2*stats.t.cdf(-t_test19,df=49) # -t_test19,because t_test19 value is positive\n",
    "p_value19"
   ]
  },
  {
   "cell_type": "code",
   "execution_count": 78,
   "id": "fa11b308",
   "metadata": {},
   "outputs": [
    {
     "name": "stdout",
     "output_type": "stream",
     "text": [
      "p_value19: 9.626040426487692e-10 , Since p_value19<α, fail to reject H0--> No action required process was good on that day\n"
     ]
    }
   ],
   "source": [
    "print(\"p_value19:\",p_value19,\", Since p_value19<α, fail to reject H0--> No action required process was good on that day\")"
   ]
  },
  {
   "cell_type": "code",
   "execution_count": 79,
   "id": "4b97db14",
   "metadata": {},
   "outputs": [],
   "source": [
    "#For Day20 x_bar20\n",
    "x_bar20 = 6.5"
   ]
  },
  {
   "cell_type": "code",
   "execution_count": 80,
   "id": "bfee1b57",
   "metadata": {},
   "outputs": [
    {
     "data": {
      "text/plain": [
       "5.892556509887896"
      ]
     },
     "execution_count": 80,
     "metadata": {},
     "output_type": "execute_result"
    }
   ],
   "source": [
    "#T-test\n",
    "t_test20 = (x_bar20 - μ) / (s/np.sqrt(n))\n",
    "t_test20"
   ]
  },
  {
   "cell_type": "code",
   "execution_count": 81,
   "id": "2951d3e4",
   "metadata": {},
   "outputs": [
    {
     "data": {
      "text/plain": [
       "3.4248372786078755e-07"
      ]
     },
     "execution_count": 81,
     "metadata": {},
     "output_type": "execute_result"
    }
   ],
   "source": [
    "#P_value\n",
    "p_value20 = 2*stats.t.cdf(-t_test20,df=49) # -t_test20,because t_test20 value is positive\n",
    "p_value20"
   ]
  },
  {
   "cell_type": "code",
   "execution_count": 82,
   "id": "463bb840",
   "metadata": {},
   "outputs": [
    {
     "name": "stdout",
     "output_type": "stream",
     "text": [
      "p_value20: 3.4248372786078755e-07 , Since p_value20<α,fail to reject H0--> No action required process was good on that day\n"
     ]
    }
   ],
   "source": [
    "print(\"p_value20:\",p_value20,\", Since p_value20<α,fail to reject H0--> No action required process was good on that day\")"
   ]
  }
 ],
 "metadata": {
  "kernelspec": {
   "display_name": "Python 3",
   "language": "python",
   "name": "python3"
  },
  "language_info": {
   "codemirror_mode": {
    "name": "ipython",
    "version": 3
   },
   "file_extension": ".py",
   "mimetype": "text/x-python",
   "name": "python",
   "nbconvert_exporter": "python",
   "pygments_lexer": "ipython3",
   "version": "3.8.8"
  }
 },
 "nbformat": 4,
 "nbformat_minor": 5
}
