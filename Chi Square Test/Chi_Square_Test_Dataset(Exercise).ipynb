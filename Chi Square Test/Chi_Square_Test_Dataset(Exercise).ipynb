{
 "cells": [
  {
   "cell_type": "markdown",
   "id": "4e945bce",
   "metadata": {},
   "source": [
    "### Chi_square_Test\n",
    "Using the Exercise dataset from seaborn to check/findout independencies of categories\n",
    "\n",
    "So Hypothesis is\n",
    "\n",
    "H0:Category are independent / No Relationship \n",
    "\n",
    "H1:Category are dependent   / There is Relationship"
   ]
  },
  {
   "cell_type": "code",
   "execution_count": 1,
   "id": "3afdb52a",
   "metadata": {},
   "outputs": [],
   "source": [
    "#Load libraries\n",
    "import pandas as pd\n",
    "import seaborn as sns\n",
    "from scipy import stats\n",
    "#libary for chi square \n",
    "from scipy.stats import chi2_contingency"
   ]
  },
  {
   "cell_type": "code",
   "execution_count": 2,
   "id": "560a8034",
   "metadata": {},
   "outputs": [
    {
     "data": {
      "text/html": [
       "<div>\n",
       "<style scoped>\n",
       "    .dataframe tbody tr th:only-of-type {\n",
       "        vertical-align: middle;\n",
       "    }\n",
       "\n",
       "    .dataframe tbody tr th {\n",
       "        vertical-align: top;\n",
       "    }\n",
       "\n",
       "    .dataframe thead th {\n",
       "        text-align: right;\n",
       "    }\n",
       "</style>\n",
       "<table border=\"1\" class=\"dataframe\">\n",
       "  <thead>\n",
       "    <tr style=\"text-align: right;\">\n",
       "      <th></th>\n",
       "      <th>Unnamed: 0</th>\n",
       "      <th>id</th>\n",
       "      <th>diet</th>\n",
       "      <th>pulse</th>\n",
       "      <th>time</th>\n",
       "      <th>kind</th>\n",
       "    </tr>\n",
       "  </thead>\n",
       "  <tbody>\n",
       "    <tr>\n",
       "      <th>0</th>\n",
       "      <td>0</td>\n",
       "      <td>1</td>\n",
       "      <td>low fat</td>\n",
       "      <td>85</td>\n",
       "      <td>1 min</td>\n",
       "      <td>rest</td>\n",
       "    </tr>\n",
       "    <tr>\n",
       "      <th>1</th>\n",
       "      <td>1</td>\n",
       "      <td>1</td>\n",
       "      <td>low fat</td>\n",
       "      <td>85</td>\n",
       "      <td>15 min</td>\n",
       "      <td>rest</td>\n",
       "    </tr>\n",
       "    <tr>\n",
       "      <th>2</th>\n",
       "      <td>2</td>\n",
       "      <td>1</td>\n",
       "      <td>low fat</td>\n",
       "      <td>88</td>\n",
       "      <td>30 min</td>\n",
       "      <td>rest</td>\n",
       "    </tr>\n",
       "    <tr>\n",
       "      <th>3</th>\n",
       "      <td>3</td>\n",
       "      <td>2</td>\n",
       "      <td>low fat</td>\n",
       "      <td>90</td>\n",
       "      <td>1 min</td>\n",
       "      <td>rest</td>\n",
       "    </tr>\n",
       "    <tr>\n",
       "      <th>4</th>\n",
       "      <td>4</td>\n",
       "      <td>2</td>\n",
       "      <td>low fat</td>\n",
       "      <td>92</td>\n",
       "      <td>15 min</td>\n",
       "      <td>rest</td>\n",
       "    </tr>\n",
       "  </tbody>\n",
       "</table>\n",
       "</div>"
      ],
      "text/plain": [
       "   Unnamed: 0  id     diet  pulse    time  kind\n",
       "0           0   1  low fat     85   1 min  rest\n",
       "1           1   1  low fat     85  15 min  rest\n",
       "2           2   1  low fat     88  30 min  rest\n",
       "3           3   2  low fat     90   1 min  rest\n",
       "4           4   2  low fat     92  15 min  rest"
      ]
     },
     "execution_count": 2,
     "metadata": {},
     "output_type": "execute_result"
    }
   ],
   "source": [
    "#Loading the tips Dataset\n",
    "dataset = sns.load_dataset(\"exercise\")\n",
    "dataset.head()"
   ]
  },
  {
   "cell_type": "markdown",
   "id": "c2a36bb7",
   "metadata": {},
   "source": [
    "## Manual method"
   ]
  },
  {
   "cell_type": "markdown",
   "id": "f4c1af3e",
   "metadata": {},
   "source": [
    "### Comparing to 'diet' & 'kind' category to find indepencies between them"
   ]
  },
  {
   "cell_type": "code",
   "execution_count": 4,
   "id": "788c33d8",
   "metadata": {},
   "outputs": [
    {
     "name": "stdout",
     "output_type": "stream",
     "text": [
      "kind     rest  walking  running\n",
      "diet                           \n",
      "no fat     15       15       15\n",
      "low fat    15       15       15\n"
     ]
    },
    {
     "data": {
      "text/plain": [
       "(2, 3)"
      ]
     },
     "execution_count": 4,
     "metadata": {},
     "output_type": "execute_result"
    }
   ],
   "source": [
    "# Crosstab between 'diet' & 'category'\n",
    "dataset_table=pd.crosstab(dataset['diet'],dataset['kind'])\n",
    "print(dataset_table)\n",
    "dataset_table.shape"
   ]
  },
  {
   "cell_type": "code",
   "execution_count": 5,
   "id": "57edc929",
   "metadata": {},
   "outputs": [
    {
     "name": "stdout",
     "output_type": "stream",
     "text": [
      "Observed Values :-\n",
      " [[15 15 15]\n",
      " [15 15 15]]\n"
     ]
    }
   ],
   "source": [
    "#Observed Values array format \n",
    "Observed_Values = dataset_table.values \n",
    "print(\"Observed Values :-\\n\",Observed_Values)"
   ]
  },
  {
   "cell_type": "code",
   "execution_count": 6,
   "id": "b924c5a6",
   "metadata": {},
   "outputs": [],
   "source": [
    "#To get the Expected Value : \n",
    "\n",
    "# Using stats.chi2_contingency(crosstab) : this gives,chi square statistic,p_value & Expected value for observation\n",
    "val=stats.chi2_contingency(dataset_table)"
   ]
  },
  {
   "cell_type": "code",
   "execution_count": 7,
   "id": "d70e49ac",
   "metadata": {},
   "outputs": [
    {
     "data": {
      "text/plain": [
       "array([[15., 15., 15.],\n",
       "       [15., 15., 15.]])"
      ]
     },
     "execution_count": 7,
     "metadata": {},
     "output_type": "execute_result"
    }
   ],
   "source": [
    "#Getting Expected Value from 'val' \n",
    "Expected_Values=val[3]\n",
    "Expected_Values"
   ]
  },
  {
   "cell_type": "code",
   "execution_count": 10,
   "id": "0d66b334",
   "metadata": {},
   "outputs": [
    {
     "name": "stdout",
     "output_type": "stream",
     "text": [
      "Degree of Freedom: 2\n"
     ]
    }
   ],
   "source": [
    "#Calculating Degree of Freedom\n",
    "no_of_rows=len(dataset_table.iloc[0:2,0])\n",
    "no_of_columns=len(dataset_table.iloc[0,0:3])\n",
    "ddof=(no_of_rows-1)*(no_of_columns-1)\n",
    "print(\"Degree of Freedom:\",ddof)\n",
    "alpha = 0.05"
   ]
  },
  {
   "cell_type": "code",
   "execution_count": 11,
   "id": "df0fedfd",
   "metadata": {},
   "outputs": [],
   "source": [
    "#Calculating chi-square statistic for expected value\n",
    "from scipy.stats import chi2\n",
    "chi_square=sum([(o-e)**2./e for o,e in zip(Observed_Values,Expected_Values)])\n",
    "chi_square_statistic=chi_square[0]+chi_square[1]"
   ]
  },
  {
   "cell_type": "code",
   "execution_count": 12,
   "id": "e0396c50",
   "metadata": {},
   "outputs": [
    {
     "name": "stdout",
     "output_type": "stream",
     "text": [
      "chi-square statistic:- 0.0\n"
     ]
    }
   ],
   "source": [
    "#Printing value\n",
    "print(\"chi-square statistic:-\",chi_square_statistic)"
   ]
  },
  {
   "cell_type": "code",
   "execution_count": 13,
   "id": "470a9280",
   "metadata": {},
   "outputs": [
    {
     "name": "stdout",
     "output_type": "stream",
     "text": [
      "critical_value: 5.991464547107979\n"
     ]
    }
   ],
   "source": [
    "#calculating critical value\n",
    "critical_value=chi2.ppf(q=1-alpha,df=ddof)\n",
    "print('critical_value:',critical_value)"
   ]
  },
  {
   "cell_type": "code",
   "execution_count": 14,
   "id": "b85990f0",
   "metadata": {},
   "outputs": [
    {
     "name": "stdout",
     "output_type": "stream",
     "text": [
      "p-value: 1.0\n",
      "Significance level:  0.05\n",
      "Degree of Freedom:  2\n"
     ]
    }
   ],
   "source": [
    "#p-value\n",
    "p_value=1-chi2.cdf(x=chi_square_statistic,df=ddof)\n",
    "print('p-value:',p_value)\n",
    "print('Significance level: ',alpha)\n",
    "print('Degree of Freedom: ',ddof)"
   ]
  },
  {
   "cell_type": "code",
   "execution_count": 15,
   "id": "6ec67dbb",
   "metadata": {},
   "outputs": [
    {
     "name": "stdout",
     "output_type": "stream",
     "text": [
      "Fail to Reject H0,There is no relationship between 2 variables\n",
      "Fail to Reject H0,There is no relationship between 2 variables\n"
     ]
    }
   ],
   "source": [
    "if chi_square_statistic>=critical_value:\n",
    "    print(\"Reject H0,There is a relationship between 2 Variables\")\n",
    "else:\n",
    "    print(\"Fail to Reject H0,There is no relationship between 2 variables\")\n",
    "    \n",
    "if p_value<=alpha:\n",
    "    print(\"Reject H0,There is a relationship between 2 variables\")\n",
    "else:\n",
    "    print(\"Fail to Reject H0,There is no relationship between 2 variables\")"
   ]
  },
  {
   "cell_type": "markdown",
   "id": "ca95a519",
   "metadata": {},
   "source": [
    "## Single Formula For Chi Square in Python"
   ]
  },
  {
   "cell_type": "markdown",
   "id": "b2d8e43c",
   "metadata": {},
   "source": [
    "### Formula is\n",
    "stats.chi2_contingency(crosstab_name, correction = False) where correction = False will give p_values for Expected Values"
   ]
  },
  {
   "cell_type": "code",
   "execution_count": 16,
   "id": "62260f3c",
   "metadata": {},
   "outputs": [],
   "source": [
    "#implementing the Single Formula\n",
    "p_value = stats.chi2_contingency(dataset_table, correction= False)"
   ]
  },
  {
   "cell_type": "code",
   "execution_count": 17,
   "id": "3c8ce9f0",
   "metadata": {},
   "outputs": [
    {
     "name": "stdout",
     "output_type": "stream",
     "text": [
      "Fail to Reject H0,There is no relationship between 2 variables\n",
      "Fail to Reject H0,There is no relationship between 2 variables\n"
     ]
    }
   ],
   "source": [
    "if p_value[0]>=critical_value:\n",
    "    print(\"Reject H0,There is a relationship between 2 Variables\")\n",
    "else:\n",
    "    print(\"Fail to Reject H0,There is no relationship between 2 variables\")\n",
    "    \n",
    "if p_value[1]<=alpha:\n",
    "    print(\"Reject H0,There is a relationship between 2 variables\")\n",
    "else:\n",
    "    print(\"Fail to Reject H0,There is no relationship between 2 variables\")"
   ]
  },
  {
   "cell_type": "code",
   "execution_count": null,
   "id": "1bc3203d",
   "metadata": {},
   "outputs": [],
   "source": []
  }
 ],
 "metadata": {
  "kernelspec": {
   "display_name": "Python 3",
   "language": "python",
   "name": "python3"
  },
  "language_info": {
   "codemirror_mode": {
    "name": "ipython",
    "version": 3
   },
   "file_extension": ".py",
   "mimetype": "text/x-python",
   "name": "python",
   "nbconvert_exporter": "python",
   "pygments_lexer": "ipython3",
   "version": "3.8.8"
  }
 },
 "nbformat": 4,
 "nbformat_minor": 5
}
