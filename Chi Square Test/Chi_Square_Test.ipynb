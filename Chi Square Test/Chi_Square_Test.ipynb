{
 "cells": [
  {
   "cell_type": "markdown",
   "id": "22b836c8",
   "metadata": {},
   "source": [
    "### Chi_square_Test\n",
    "Using the Iris dataset from sklearn to check/findout independencies of categories\n",
    "\n",
    "So Hypothesis is\n",
    "\n",
    "H0:Category are independent / No Relationship \n",
    "\n",
    "H1:Category are dependent   / There is Relationship"
   ]
  },
  {
   "cell_type": "code",
   "execution_count": 1,
   "id": "640a7046",
   "metadata": {},
   "outputs": [],
   "source": [
    "#Load libraries\n",
    "import pandas as pd\n",
    "import seaborn as sns\n",
    "from scipy import stats\n",
    "#libary for chi square \n",
    "from scipy.stats import chi2_contingency"
   ]
  },
  {
   "cell_type": "code",
   "execution_count": 2,
   "id": "39662858",
   "metadata": {
    "scrolled": false
   },
   "outputs": [
    {
     "data": {
      "text/html": [
       "<div>\n",
       "<style scoped>\n",
       "    .dataframe tbody tr th:only-of-type {\n",
       "        vertical-align: middle;\n",
       "    }\n",
       "\n",
       "    .dataframe tbody tr th {\n",
       "        vertical-align: top;\n",
       "    }\n",
       "\n",
       "    .dataframe thead th {\n",
       "        text-align: right;\n",
       "    }\n",
       "</style>\n",
       "<table border=\"1\" class=\"dataframe\">\n",
       "  <thead>\n",
       "    <tr style=\"text-align: right;\">\n",
       "      <th></th>\n",
       "      <th>sepal_length</th>\n",
       "      <th>sepal_width</th>\n",
       "      <th>petal_length</th>\n",
       "      <th>petal_width</th>\n",
       "      <th>species</th>\n",
       "    </tr>\n",
       "  </thead>\n",
       "  <tbody>\n",
       "    <tr>\n",
       "      <th>0</th>\n",
       "      <td>5.1</td>\n",
       "      <td>3.5</td>\n",
       "      <td>1.4</td>\n",
       "      <td>0.2</td>\n",
       "      <td>setosa</td>\n",
       "    </tr>\n",
       "    <tr>\n",
       "      <th>1</th>\n",
       "      <td>4.9</td>\n",
       "      <td>3.0</td>\n",
       "      <td>1.4</td>\n",
       "      <td>0.2</td>\n",
       "      <td>setosa</td>\n",
       "    </tr>\n",
       "    <tr>\n",
       "      <th>2</th>\n",
       "      <td>4.7</td>\n",
       "      <td>3.2</td>\n",
       "      <td>1.3</td>\n",
       "      <td>0.2</td>\n",
       "      <td>setosa</td>\n",
       "    </tr>\n",
       "    <tr>\n",
       "      <th>3</th>\n",
       "      <td>4.6</td>\n",
       "      <td>3.1</td>\n",
       "      <td>1.5</td>\n",
       "      <td>0.2</td>\n",
       "      <td>setosa</td>\n",
       "    </tr>\n",
       "    <tr>\n",
       "      <th>4</th>\n",
       "      <td>5.0</td>\n",
       "      <td>3.6</td>\n",
       "      <td>1.4</td>\n",
       "      <td>0.2</td>\n",
       "      <td>setosa</td>\n",
       "    </tr>\n",
       "  </tbody>\n",
       "</table>\n",
       "</div>"
      ],
      "text/plain": [
       "   sepal_length  sepal_width  petal_length  petal_width species\n",
       "0           5.1          3.5           1.4          0.2  setosa\n",
       "1           4.9          3.0           1.4          0.2  setosa\n",
       "2           4.7          3.2           1.3          0.2  setosa\n",
       "3           4.6          3.1           1.5          0.2  setosa\n",
       "4           5.0          3.6           1.4          0.2  setosa"
      ]
     },
     "execution_count": 2,
     "metadata": {},
     "output_type": "execute_result"
    }
   ],
   "source": [
    "#Loading Iris dataset\n",
    "dataset=sns.load_dataset('iris')\n",
    "dataset.head()"
   ]
  },
  {
   "cell_type": "markdown",
   "id": "2c9d2ba7",
   "metadata": {},
   "source": [
    "### Comparing to 'sepal_length' & 'species' category to find indepencies between them"
   ]
  },
  {
   "cell_type": "code",
   "execution_count": 3,
   "id": "0281599c",
   "metadata": {},
   "outputs": [
    {
     "name": "stdout",
     "output_type": "stream",
     "text": [
      "species       setosa  versicolor  virginica\n",
      "sepal_length                               \n",
      "4.3                1           0          0\n",
      "4.4                3           0          0\n",
      "4.5                1           0          0\n",
      "4.6                4           0          0\n",
      "4.7                2           0          0\n",
      "4.8                5           0          0\n",
      "4.9                4           1          1\n",
      "5.0                8           2          0\n",
      "5.1                8           1          0\n",
      "5.2                3           1          0\n",
      "5.3                1           0          0\n",
      "5.4                5           1          0\n",
      "5.5                2           5          0\n",
      "5.6                0           5          1\n",
      "5.7                2           5          1\n",
      "5.8                1           3          3\n",
      "5.9                0           2          1\n",
      "6.0                0           4          2\n",
      "6.1                0           4          2\n",
      "6.2                0           2          2\n",
      "6.3                0           3          6\n",
      "6.4                0           2          5\n",
      "6.5                0           1          4\n",
      "6.6                0           2          0\n",
      "6.7                0           3          5\n",
      "6.8                0           1          2\n",
      "6.9                0           1          3\n",
      "7.0                0           1          0\n",
      "7.1                0           0          1\n",
      "7.2                0           0          3\n",
      "7.3                0           0          1\n",
      "7.4                0           0          1\n",
      "7.6                0           0          1\n",
      "7.7                0           0          4\n",
      "7.9                0           0          1\n"
     ]
    },
    {
     "data": {
      "text/plain": [
       "(35, 3)"
      ]
     },
     "execution_count": 3,
     "metadata": {},
     "output_type": "execute_result"
    }
   ],
   "source": [
    "# Crosstab between 'Sepal_length' & 'species'\n",
    "dataset_table=pd.crosstab(dataset['sepal_length'],dataset['species'])\n",
    "print(dataset_table)\n",
    "dataset_table.shape"
   ]
  },
  {
   "cell_type": "code",
   "execution_count": 4,
   "id": "27eab815",
   "metadata": {},
   "outputs": [
    {
     "name": "stdout",
     "output_type": "stream",
     "text": [
      "Observed Values :-\n",
      " [[1 0 0]\n",
      " [3 0 0]\n",
      " [1 0 0]\n",
      " [4 0 0]\n",
      " [2 0 0]\n",
      " [5 0 0]\n",
      " [4 1 1]\n",
      " [8 2 0]\n",
      " [8 1 0]\n",
      " [3 1 0]\n",
      " [1 0 0]\n",
      " [5 1 0]\n",
      " [2 5 0]\n",
      " [0 5 1]\n",
      " [2 5 1]\n",
      " [1 3 3]\n",
      " [0 2 1]\n",
      " [0 4 2]\n",
      " [0 4 2]\n",
      " [0 2 2]\n",
      " [0 3 6]\n",
      " [0 2 5]\n",
      " [0 1 4]\n",
      " [0 2 0]\n",
      " [0 3 5]\n",
      " [0 1 2]\n",
      " [0 1 3]\n",
      " [0 1 0]\n",
      " [0 0 1]\n",
      " [0 0 3]\n",
      " [0 0 1]\n",
      " [0 0 1]\n",
      " [0 0 1]\n",
      " [0 0 4]\n",
      " [0 0 1]]\n"
     ]
    }
   ],
   "source": [
    "#Observed Values array format \n",
    "Observed_Values = dataset_table.values \n",
    "print(\"Observed Values :-\\n\",Observed_Values)"
   ]
  },
  {
   "cell_type": "code",
   "execution_count": 5,
   "id": "0c03e853",
   "metadata": {},
   "outputs": [],
   "source": [
    "#To get the Expected Value : \n",
    "\n",
    "# Using stats.chi2_contingency(crosstab) : this gives,chi square statistic,p_value & Expected value for observation\n",
    "val=stats.chi2_contingency(dataset_table)"
   ]
  },
  {
   "cell_type": "code",
   "execution_count": 6,
   "id": "5abf4c58",
   "metadata": {},
   "outputs": [
    {
     "data": {
      "text/plain": [
       "array([[0.33333333, 0.33333333, 0.33333333],\n",
       "       [1.        , 1.        , 1.        ],\n",
       "       [0.33333333, 0.33333333, 0.33333333],\n",
       "       [1.33333333, 1.33333333, 1.33333333],\n",
       "       [0.66666667, 0.66666667, 0.66666667],\n",
       "       [1.66666667, 1.66666667, 1.66666667],\n",
       "       [2.        , 2.        , 2.        ],\n",
       "       [3.33333333, 3.33333333, 3.33333333],\n",
       "       [3.        , 3.        , 3.        ],\n",
       "       [1.33333333, 1.33333333, 1.33333333],\n",
       "       [0.33333333, 0.33333333, 0.33333333],\n",
       "       [2.        , 2.        , 2.        ],\n",
       "       [2.33333333, 2.33333333, 2.33333333],\n",
       "       [2.        , 2.        , 2.        ],\n",
       "       [2.66666667, 2.66666667, 2.66666667],\n",
       "       [2.33333333, 2.33333333, 2.33333333],\n",
       "       [1.        , 1.        , 1.        ],\n",
       "       [2.        , 2.        , 2.        ],\n",
       "       [2.        , 2.        , 2.        ],\n",
       "       [1.33333333, 1.33333333, 1.33333333],\n",
       "       [3.        , 3.        , 3.        ],\n",
       "       [2.33333333, 2.33333333, 2.33333333],\n",
       "       [1.66666667, 1.66666667, 1.66666667],\n",
       "       [0.66666667, 0.66666667, 0.66666667],\n",
       "       [2.66666667, 2.66666667, 2.66666667],\n",
       "       [1.        , 1.        , 1.        ],\n",
       "       [1.33333333, 1.33333333, 1.33333333],\n",
       "       [0.33333333, 0.33333333, 0.33333333],\n",
       "       [0.33333333, 0.33333333, 0.33333333],\n",
       "       [1.        , 1.        , 1.        ],\n",
       "       [0.33333333, 0.33333333, 0.33333333],\n",
       "       [0.33333333, 0.33333333, 0.33333333],\n",
       "       [0.33333333, 0.33333333, 0.33333333],\n",
       "       [1.33333333, 1.33333333, 1.33333333],\n",
       "       [0.33333333, 0.33333333, 0.33333333]])"
      ]
     },
     "execution_count": 6,
     "metadata": {},
     "output_type": "execute_result"
    }
   ],
   "source": [
    "#Getting Expected Value from 'val' \n",
    "Expected_Values=val[3]\n",
    "Expected_Values"
   ]
  },
  {
   "cell_type": "code",
   "execution_count": 7,
   "id": "b3862f62",
   "metadata": {},
   "outputs": [
    {
     "name": "stdout",
     "output_type": "stream",
     "text": [
      "Degree of Freedom:- 68\n"
     ]
    }
   ],
   "source": [
    "#Calculating Degree of Freedom\n",
    "no_of_rows=len(dataset_table.iloc[0:35,0])\n",
    "no_of_columns=len(dataset_table.iloc[0,0:3])\n",
    "ddof=(no_of_rows-1)*(no_of_columns-1)\n",
    "print(\"Degree of Freedom:-\",ddof)\n",
    "alpha = 0.05"
   ]
  },
  {
   "cell_type": "code",
   "execution_count": 8,
   "id": "2b46cbf7",
   "metadata": {},
   "outputs": [],
   "source": [
    "#Calculating chi-square statistic for expected value\n",
    "from scipy.stats import chi2\n",
    "chi_square=sum([(o-e)**2./e for o,e in zip(Observed_Values,Expected_Values)])\n",
    "chi_square_statistic=chi_square[0]+chi_square[1]"
   ]
  },
  {
   "cell_type": "code",
   "execution_count": 9,
   "id": "4e2553e3",
   "metadata": {
    "scrolled": true
   },
   "outputs": [
    {
     "name": "stdout",
     "output_type": "stream",
     "text": [
      "chi-square statistic:- 104.59523809523805\n"
     ]
    }
   ],
   "source": [
    "#Printing value\n",
    "print(\"chi-square statistic:-\",chi_square_statistic)"
   ]
  },
  {
   "cell_type": "code",
   "execution_count": 10,
   "id": "05111654",
   "metadata": {},
   "outputs": [
    {
     "name": "stdout",
     "output_type": "stream",
     "text": [
      "critical_value: 88.25016442187412\n"
     ]
    }
   ],
   "source": [
    "#calculating critical value\n",
    "critical_value=chi2.ppf(q=1-alpha,df=ddof)\n",
    "print('critical_value:',critical_value)"
   ]
  },
  {
   "cell_type": "code",
   "execution_count": 11,
   "id": "f6f5dcf1",
   "metadata": {
    "scrolled": false
   },
   "outputs": [
    {
     "name": "stdout",
     "output_type": "stream",
     "text": [
      "p-value: 0.0028932603562065173\n",
      "Significance level:  0.05\n",
      "Degree of Freedom:  68\n"
     ]
    }
   ],
   "source": [
    "#p-value\n",
    "p_value=1-chi2.cdf(x=chi_square_statistic,df=ddof)\n",
    "print('p-value:',p_value)\n",
    "print('Significance level: ',alpha)\n",
    "print('Degree of Freedom: ',ddof)\n"
   ]
  },
  {
   "cell_type": "code",
   "execution_count": 12,
   "id": "faf14eff",
   "metadata": {},
   "outputs": [
    {
     "name": "stdout",
     "output_type": "stream",
     "text": [
      "Reject H0,There is a relationship between 2 Variables\n",
      "Reject H0,There is a relationship between 2 variables\n"
     ]
    }
   ],
   "source": [
    "if chi_square_statistic>=critical_value:\n",
    "    print(\"Reject H0,There is a relationship between 2 Variables\")\n",
    "else:\n",
    "    print(\"Fail to Reject H0,There is no relationship between 2 variables\")\n",
    "    \n",
    "if p_value<=alpha:\n",
    "    print(\"Reject H0,There is a relationship between 2 variables\")\n",
    "else:\n",
    "    print(\"Fail to Reject H0,There is no relationship between 2 variables\")"
   ]
  },
  {
   "cell_type": "markdown",
   "id": "9775a21e",
   "metadata": {},
   "source": [
    "### Problem - 2\n",
    "\n",
    "To Check whether there is a reationship between a Athlete and smoker\n",
    "\n",
    "So Defining Hypothesis,\n",
    "\n",
    "H0 : Both Catergory are independent / No Relationship\n",
    "\n",
    "H1 : Both Catergory are dependent / there is Relationship"
   ]
  },
  {
   "cell_type": "code",
   "execution_count": 13,
   "id": "8adf8da0",
   "metadata": {},
   "outputs": [
    {
     "data": {
      "text/html": [
       "<div>\n",
       "<style scoped>\n",
       "    .dataframe tbody tr th:only-of-type {\n",
       "        vertical-align: middle;\n",
       "    }\n",
       "\n",
       "    .dataframe tbody tr th {\n",
       "        vertical-align: top;\n",
       "    }\n",
       "\n",
       "    .dataframe thead th {\n",
       "        text-align: right;\n",
       "    }\n",
       "</style>\n",
       "<table border=\"1\" class=\"dataframe\">\n",
       "  <thead>\n",
       "    <tr style=\"text-align: right;\">\n",
       "      <th></th>\n",
       "      <th>Smoker</th>\n",
       "      <th>Athlete</th>\n",
       "    </tr>\n",
       "  </thead>\n",
       "  <tbody>\n",
       "    <tr>\n",
       "      <th>0</th>\n",
       "      <td>Non-Smoker</td>\n",
       "      <td>Athlete</td>\n",
       "    </tr>\n",
       "    <tr>\n",
       "      <th>1</th>\n",
       "      <td>Non-Smoker</td>\n",
       "      <td>Athlete</td>\n",
       "    </tr>\n",
       "    <tr>\n",
       "      <th>2</th>\n",
       "      <td>Non-Smoker</td>\n",
       "      <td>Athlete</td>\n",
       "    </tr>\n",
       "    <tr>\n",
       "      <th>3</th>\n",
       "      <td>Non-Smoker</td>\n",
       "      <td>Athlete</td>\n",
       "    </tr>\n",
       "    <tr>\n",
       "      <th>4</th>\n",
       "      <td>Non-Smoker</td>\n",
       "      <td>Athlete</td>\n",
       "    </tr>\n",
       "  </tbody>\n",
       "</table>\n",
       "</div>"
      ],
      "text/plain": [
       "       Smoker  Athlete\n",
       "0  Non-Smoker  Athlete\n",
       "1  Non-Smoker  Athlete\n",
       "2  Non-Smoker  Athlete\n",
       "3  Non-Smoker  Athlete\n",
       "4  Non-Smoker  Athlete"
      ]
     },
     "execution_count": 13,
     "metadata": {},
     "output_type": "execute_result"
    }
   ],
   "source": [
    "#loading Dataset\n",
    "SmokerDF = pd.read_csv(\"C:/Users/Akaash/Downloads/Chi Square.csv\")\n",
    "SmokerDF.head()"
   ]
  },
  {
   "cell_type": "code",
   "execution_count": 14,
   "id": "88d549c5",
   "metadata": {},
   "outputs": [
    {
     "name": "stdout",
     "output_type": "stream",
     "text": [
      "Athlete     Athlete  Non-Athlete\n",
      "Smoker                          \n",
      "Non-Smoker       14            0\n",
      "Smoker            4           10\n"
     ]
    },
    {
     "data": {
      "text/plain": [
       "(2, 2)"
      ]
     },
     "execution_count": 14,
     "metadata": {},
     "output_type": "execute_result"
    }
   ],
   "source": [
    "#Creatng Crosstab\n",
    "SmokerCT = pd.crosstab(SmokerDF.Smoker,SmokerDF.Athlete)  \n",
    "print(SmokerCT)\n",
    "SmokerCT.shape"
   ]
  },
  {
   "cell_type": "code",
   "execution_count": 15,
   "id": "f87e0064",
   "metadata": {
    "scrolled": true
   },
   "outputs": [
    {
     "name": "stdout",
     "output_type": "stream",
     "text": [
      "Observed_value is: - \n",
      " [[14  0]\n",
      " [ 4 10]]\n"
     ]
    }
   ],
   "source": [
    "#Observed_values\n",
    "Observed_value = SmokerCT.values\n",
    "print(\"Observed_value is: - \\n\",Observed_value)"
   ]
  },
  {
   "cell_type": "code",
   "execution_count": 16,
   "id": "30d56293",
   "metadata": {},
   "outputs": [],
   "source": [
    "#To Get Expected Values\n",
    "\n",
    "#Using stats.chi2_contingency(crosstab) : this gives,chi square statistic,p_value & Expected value for observation\n",
    "val=chi2_contingency(SmokerCT)"
   ]
  },
  {
   "cell_type": "code",
   "execution_count": 17,
   "id": "07156614",
   "metadata": {},
   "outputs": [
    {
     "data": {
      "text/plain": [
       "array([[9., 5.],\n",
       "       [9., 5.]])"
      ]
     },
     "execution_count": 17,
     "metadata": {},
     "output_type": "execute_result"
    }
   ],
   "source": [
    "#Expected_value from 'val'\n",
    "Expected_value = val[3]\n",
    "Expected_value"
   ]
  },
  {
   "cell_type": "code",
   "execution_count": 18,
   "id": "ac548552",
   "metadata": {},
   "outputs": [
    {
     "name": "stdout",
     "output_type": "stream",
     "text": [
      "Degree of Freedom: - 1\n"
     ]
    }
   ],
   "source": [
    "#Calculating Degree of Freedom,dof = (No of row - 1)*(No of col -1)\n",
    "\n",
    "NOR = len(SmokerCT.iloc[0:2,0]) #getting no of rows\n",
    "NOC = len(SmokerCT.iloc[0,0:2]) #getting no of cols\n",
    "#formula of dof\n",
    "dof=(NOR-1)*(NOC-1)      \n",
    "print(\"Degree of Freedom: -\",dof)"
   ]
  },
  {
   "cell_type": "code",
   "execution_count": 19,
   "id": "796db3b4",
   "metadata": {},
   "outputs": [],
   "source": [
    "#Calculating chi-square statistic for expected value\n",
    "from scipy.stats import chi2\n",
    "chi_square=sum([(o-e)**2./e for o,e in zip(Observed_value,Expected_value)])\n",
    "chi_square_statistic=chi_square[0]+chi_square[1]"
   ]
  },
  {
   "cell_type": "code",
   "execution_count": 20,
   "id": "5f732682",
   "metadata": {},
   "outputs": [
    {
     "name": "stdout",
     "output_type": "stream",
     "text": [
      "Chi-square statistic: - 15.555555555555555\n"
     ]
    }
   ],
   "source": [
    "#printing chi square value\n",
    "print(\"Chi-square statistic: -\",chi_square_statistic)"
   ]
  },
  {
   "cell_type": "code",
   "execution_count": 21,
   "id": "aaa5cbfa",
   "metadata": {},
   "outputs": [
    {
     "name": "stdout",
     "output_type": "stream",
     "text": [
      "critical_value: 3.841458820694124\n"
     ]
    }
   ],
   "source": [
    "#calculating critical value\n",
    "critical_value=chi2.ppf(q=1-alpha,df=dof)\n",
    "print('critical_value:',critical_value)"
   ]
  },
  {
   "cell_type": "code",
   "execution_count": 22,
   "id": "fc840796",
   "metadata": {},
   "outputs": [
    {
     "name": "stdout",
     "output_type": "stream",
     "text": [
      "p-value: 8.011587656031605e-05\n",
      "Significance level:  0.05\n",
      "Degree of Freedom:  68\n"
     ]
    }
   ],
   "source": [
    "#p-value\n",
    "p_value=1-chi2.cdf(x=chi_square_statistic,df=dof)\n",
    "print('p-value:',p_value)\n",
    "print('Significance level: ',alpha)\n",
    "print('Degree of Freedom: ',ddof)"
   ]
  },
  {
   "cell_type": "code",
   "execution_count": 23,
   "id": "dc546ed2",
   "metadata": {},
   "outputs": [
    {
     "name": "stdout",
     "output_type": "stream",
     "text": [
      "Reject H0,There is a relationship between 2 Variables\n",
      "Reject H0,There is a relationship between 2 variables\n"
     ]
    }
   ],
   "source": [
    "if chi_square_statistic>=critical_value:\n",
    "    print(\"Reject H0,There is a relationship between 2 Variables\")\n",
    "else:\n",
    "    print(\"Fail to Reject H0,There is no relationship between 2 variables\")\n",
    "    \n",
    "if p_value<=alpha:\n",
    "    print(\"Reject H0,There is a relationship between 2 variables\")\n",
    "else:\n",
    "    print(\"Fail to Reject H0,There is no relationship between 2 variables\")"
   ]
  },
  {
   "cell_type": "code",
   "execution_count": null,
   "id": "499d958e",
   "metadata": {},
   "outputs": [],
   "source": []
  }
 ],
 "metadata": {
  "kernelspec": {
   "display_name": "Python 3",
   "language": "python",
   "name": "python3"
  },
  "language_info": {
   "codemirror_mode": {
    "name": "ipython",
    "version": 3
   },
   "file_extension": ".py",
   "mimetype": "text/x-python",
   "name": "python",
   "nbconvert_exporter": "python",
   "pygments_lexer": "ipython3",
   "version": "3.8.8"
  }
 },
 "nbformat": 4,
 "nbformat_minor": 5
}
